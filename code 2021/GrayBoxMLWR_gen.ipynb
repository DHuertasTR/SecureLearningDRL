{
 "cells": [
  {
   "cell_type": "code",
   "execution_count": 2,
   "source": [
    "import numpy as np\r\n",
    "import pandas as pd\r\n",
    "import scipy\r\n",
    "from gym import error, spaces, utils\r\n",
    "from collections import OrderedDict\r\n",
    "from sklearn import preprocessing\r\n",
    "import joblib as jb\r\n",
    "import random\r\n",
    "import time"
   ],
   "outputs": [],
   "metadata": {}
  },
  {
   "cell_type": "code",
   "execution_count": 3,
   "source": [
    "#Creando los 10 features y las constantes necesarias\r\n",
    "features=['A','B','C','D','F','G','H','I','j']\r\n",
    "n_states=len(features)\r\n",
    "n_actions=500\r\n",
    "e = 0.9 # greedy factor\r\n",
    "a= 0.1  # learning rate\r\n",
    "g= 0.9 # discount factor\r\n",
    "max_episodes = 3 # maximum episodes\r\n",
    "fresh_time= 0.3 # fresh time for one move"
   ],
   "outputs": [],
   "metadata": {}
  },
  {
   "cell_type": "code",
   "execution_count": 8,
   "source": [
    "model=jb.load('rfDefense2021.sav')\r\n",
    "print(model)"
   ],
   "outputs": [
    {
     "output_type": "stream",
     "name": "stdout",
     "text": [
      "RandomForestClassifier(max_depth=50, n_estimators=250, random_state=45)\n"
     ]
    }
   ],
   "metadata": {}
  },
  {
   "cell_type": "code",
   "execution_count": 9,
   "source": [
    "#tabla de pandas\r\n",
    "df=pd.DataFrame(columns=features)\r\n",
    "print(df)"
   ],
   "outputs": [
    {
     "output_type": "stream",
     "name": "stdout",
     "text": [
      "Empty DataFrame\n",
      "Columns: [A, B, C, D, F, G, H, I, j]\n",
      "Index: []\n"
     ]
    }
   ],
   "metadata": {}
  },
  {
   "cell_type": "code",
   "execution_count": 10,
   "source": [
    "def generateValues(malwItems):\r\n",
    "    a=0\r\n",
    "    while a<malwItems:\r\n",
    "        \r\n",
    "        valuesToTest=np.array[[]]\r\n",
    "        \r\n",
    "        for x in range(10):\r\n",
    "            valuesTotest=np.array()"
   ],
   "outputs": [
    {
     "output_type": "error",
     "ename": "SyntaxError",
     "evalue": "unexpected EOF while parsing (<ipython-input-10-996c72fe9a01>, line 4)",
     "traceback": [
      "\u001b[1;36m  File \u001b[1;32m\"<ipython-input-10-996c72fe9a01>\"\u001b[1;36m, line \u001b[1;32m4\u001b[0m\n\u001b[1;33m    \u001b[0m\n\u001b[1;37m    ^\u001b[0m\n\u001b[1;31mSyntaxError\u001b[0m\u001b[1;31m:\u001b[0m unexpected EOF while parsing\n"
     ]
    }
   ],
   "metadata": {}
  }
 ],
 "metadata": {
  "orig_nbformat": 4,
  "language_info": {
   "name": "python",
   "version": "3.8.11",
   "mimetype": "text/x-python",
   "codemirror_mode": {
    "name": "ipython",
    "version": 3
   },
   "pygments_lexer": "ipython3",
   "nbconvert_exporter": "python",
   "file_extension": ".py"
  },
  "kernelspec": {
   "name": "python3",
   "display_name": "Python 3.8.11 64-bit ('jupy': conda)"
  },
  "interpreter": {
   "hash": "2aafba6fd41afbc37b2c539ff55e748439b864b56a5a196fba85a643518eef0d"
  }
 },
 "nbformat": 4,
 "nbformat_minor": 2
}