{
 "cells": [
  {
   "cell_type": "code",
   "execution_count": 3,
   "metadata": {},
   "outputs": [],
   "source": [
    "import numpy as np\n",
    "import pandas as pd\n",
    "import scipy\n",
    "from collections import OrderedDict\n",
    "from sklearn import preprocessing\n",
    "import joblib as jb\n",
    "import random\n",
    "import time"
   ]
  },
  {
   "cell_type": "code",
   "execution_count": null,
   "metadata": {},
   "outputs": [],
   "source": [
    "#Creando los 10 features y las constantes necesarias\n",
    "features=['A','B','C','D','F','G','H','I','j','k']\n"
   ]
  },
  {
   "cell_type": "code",
   "execution_count": null,
   "metadata": {},
   "outputs": [
    {
     "name": "stdout",
     "output_type": "stream",
     "text": [
      "RandomForestClassifier(max_depth=50, n_estimators=250, random_state=45)\n"
     ]
    }
   ],
   "source": [
    "model=jb.load('rfDefense2021.sav')\n",
    "print(model)"
   ]
  },
  {
   "cell_type": "code",
   "execution_count": null,
   "metadata": {},
   "outputs": [
    {
     "name": "stdout",
     "output_type": "stream",
     "text": [
      "Empty DataFrame\n",
      "Columns: [A, B, C, D, F, G, H, I, j, k]\n",
      "Index: []\n"
     ]
    }
   ],
   "source": [
    "#tabla de pandas\n",
    "df=pd.DataFrame(columns=features)\n",
    "print(df)"
   ]
  },
  {
   "cell_type": "code",
   "execution_count": null,
   "metadata": {},
   "outputs": [
    {
     "data": {
      "text/html": [
       "<div>\n",
       "<style scoped>\n",
       "    .dataframe tbody tr th:only-of-type {\n",
       "        vertical-align: middle;\n",
       "    }\n",
       "\n",
       "    .dataframe tbody tr th {\n",
       "        vertical-align: top;\n",
       "    }\n",
       "\n",
       "    .dataframe thead th {\n",
       "        text-align: right;\n",
       "    }\n",
       "</style>\n",
       "<table border=\"1\" class=\"dataframe\">\n",
       "  <thead>\n",
       "    <tr style=\"text-align: right;\">\n",
       "      <th></th>\n",
       "      <th>A</th>\n",
       "      <th>B</th>\n",
       "      <th>C</th>\n",
       "      <th>D</th>\n",
       "      <th>F</th>\n",
       "      <th>G</th>\n",
       "      <th>H</th>\n",
       "      <th>I</th>\n",
       "      <th>j</th>\n",
       "      <th>k</th>\n",
       "    </tr>\n",
       "  </thead>\n",
       "  <tbody>\n",
       "  </tbody>\n",
       "</table>\n",
       "</div>"
      ],
      "text/plain": [
       "Empty DataFrame\n",
       "Columns: [A, B, C, D, F, G, H, I, j, k]\n",
       "Index: []"
      ]
     },
     "execution_count": 16,
     "metadata": {},
     "output_type": "execute_result"
    }
   ],
   "source": [
    "df"
   ]
  },
  {
   "cell_type": "code",
   "execution_count": 4,
   "metadata": {},
   "outputs": [],
   "source": [
    "\n",
    "\n",
    "\n",
    "def generateValues(malwItems):\n",
    "    a=0\n",
    "    while a<malwItems:\n",
    "        \n",
    "        valuesToTest=np.array([])\n",
    "        result=None\n",
    "        for x in range(10):\n",
    "            valuesToTest=np.append(valuesToTest, random.randint(-100,100))\n",
    "                    \n",
    "        try:\n",
    "             result=model.predict(valuesToTest.reshape(1,-1))\n",
    "             result=np.array2string(result)\n",
    "             #print(valuesToTest.reshape(1,-1))\n",
    "        except Exception as ex:\n",
    "           pass \n",
    "        \n",
    "        if result==\"['malicious']\":\n",
    "            formatier=valuesToTest.reshape(1,-1)[0]\n",
    "            df.loc[a]=formatier\n",
    "            a=a+1\n",
    "            print(result)\n",
    "            print(a-1)\n",
    "       "
   ]
  },
  {
   "cell_type": "code",
   "execution_count": null,
   "metadata": {},
   "outputs": [
    {
     "ename": "NameError",
     "evalue": "name 'generateValues' is not defined",
     "output_type": "error",
     "traceback": [
      "\u001b[1;31m---------------------------------------------------------------------------\u001b[0m",
      "\u001b[1;31mNameError\u001b[0m                                 Traceback (most recent call last)",
      "\u001b[1;32m~\\AppData\\Local\\Temp/ipykernel_13996/1117863007.py\u001b[0m in \u001b[0;36m<module>\u001b[1;34m\u001b[0m\n\u001b[1;32m----> 1\u001b[1;33m \u001b[0mgenerateValues\u001b[0m\u001b[1;33m(\u001b[0m\u001b[1;36m1500\u001b[0m\u001b[1;33m)\u001b[0m\u001b[1;33m\u001b[0m\u001b[1;33m\u001b[0m\u001b[0m\n\u001b[0m",
      "\u001b[1;31mNameError\u001b[0m: name 'generateValues' is not defined"
     ]
    }
   ],
   "source": [
    "generateValues(1500)"
   ]
  },
  {
   "cell_type": "code",
   "execution_count": null,
   "metadata": {},
   "outputs": [
    {
     "data": {
      "text/html": [
       "<div>\n",
       "<style scoped>\n",
       "    .dataframe tbody tr th:only-of-type {\n",
       "        vertical-align: middle;\n",
       "    }\n",
       "\n",
       "    .dataframe tbody tr th {\n",
       "        vertical-align: top;\n",
       "    }\n",
       "\n",
       "    .dataframe thead th {\n",
       "        text-align: right;\n",
       "    }\n",
       "</style>\n",
       "<table border=\"1\" class=\"dataframe\">\n",
       "  <thead>\n",
       "    <tr style=\"text-align: right;\">\n",
       "      <th></th>\n",
       "      <th>A</th>\n",
       "      <th>B</th>\n",
       "      <th>C</th>\n",
       "      <th>D</th>\n",
       "      <th>F</th>\n",
       "      <th>G</th>\n",
       "      <th>H</th>\n",
       "      <th>I</th>\n",
       "      <th>j</th>\n",
       "      <th>k</th>\n",
       "    </tr>\n",
       "  </thead>\n",
       "  <tbody>\n",
       "    <tr>\n",
       "      <th>0</th>\n",
       "      <td>-99.0</td>\n",
       "      <td>-16.0</td>\n",
       "      <td>-73.0</td>\n",
       "      <td>-84.0</td>\n",
       "      <td>-59.0</td>\n",
       "      <td>-11.0</td>\n",
       "      <td>-6.0</td>\n",
       "      <td>6.0</td>\n",
       "      <td>-41.0</td>\n",
       "      <td>23.0</td>\n",
       "    </tr>\n",
       "    <tr>\n",
       "      <th>1</th>\n",
       "      <td>-60.0</td>\n",
       "      <td>-35.0</td>\n",
       "      <td>-35.0</td>\n",
       "      <td>-69.0</td>\n",
       "      <td>73.0</td>\n",
       "      <td>61.0</td>\n",
       "      <td>-62.0</td>\n",
       "      <td>82.0</td>\n",
       "      <td>-44.0</td>\n",
       "      <td>59.0</td>\n",
       "    </tr>\n",
       "    <tr>\n",
       "      <th>2</th>\n",
       "      <td>31.0</td>\n",
       "      <td>57.0</td>\n",
       "      <td>-11.0</td>\n",
       "      <td>-44.0</td>\n",
       "      <td>11.0</td>\n",
       "      <td>44.0</td>\n",
       "      <td>-89.0</td>\n",
       "      <td>17.0</td>\n",
       "      <td>6.0</td>\n",
       "      <td>69.0</td>\n",
       "    </tr>\n",
       "    <tr>\n",
       "      <th>3</th>\n",
       "      <td>-59.0</td>\n",
       "      <td>-9.0</td>\n",
       "      <td>-85.0</td>\n",
       "      <td>-60.0</td>\n",
       "      <td>-28.0</td>\n",
       "      <td>-73.0</td>\n",
       "      <td>-78.0</td>\n",
       "      <td>12.0</td>\n",
       "      <td>-72.0</td>\n",
       "      <td>75.0</td>\n",
       "    </tr>\n",
       "    <tr>\n",
       "      <th>4</th>\n",
       "      <td>-13.0</td>\n",
       "      <td>-19.0</td>\n",
       "      <td>-50.0</td>\n",
       "      <td>-100.0</td>\n",
       "      <td>-48.0</td>\n",
       "      <td>-64.0</td>\n",
       "      <td>-54.0</td>\n",
       "      <td>58.0</td>\n",
       "      <td>-71.0</td>\n",
       "      <td>1.0</td>\n",
       "    </tr>\n",
       "    <tr>\n",
       "      <th>...</th>\n",
       "      <td>...</td>\n",
       "      <td>...</td>\n",
       "      <td>...</td>\n",
       "      <td>...</td>\n",
       "      <td>...</td>\n",
       "      <td>...</td>\n",
       "      <td>...</td>\n",
       "      <td>...</td>\n",
       "      <td>...</td>\n",
       "      <td>...</td>\n",
       "    </tr>\n",
       "    <tr>\n",
       "      <th>495</th>\n",
       "      <td>37.0</td>\n",
       "      <td>36.0</td>\n",
       "      <td>-25.0</td>\n",
       "      <td>-59.0</td>\n",
       "      <td>-86.0</td>\n",
       "      <td>59.0</td>\n",
       "      <td>-20.0</td>\n",
       "      <td>30.0</td>\n",
       "      <td>5.0</td>\n",
       "      <td>59.0</td>\n",
       "    </tr>\n",
       "    <tr>\n",
       "      <th>496</th>\n",
       "      <td>-96.0</td>\n",
       "      <td>48.0</td>\n",
       "      <td>-81.0</td>\n",
       "      <td>73.0</td>\n",
       "      <td>-54.0</td>\n",
       "      <td>24.0</td>\n",
       "      <td>44.0</td>\n",
       "      <td>-51.0</td>\n",
       "      <td>34.0</td>\n",
       "      <td>82.0</td>\n",
       "    </tr>\n",
       "    <tr>\n",
       "      <th>497</th>\n",
       "      <td>-83.0</td>\n",
       "      <td>-35.0</td>\n",
       "      <td>-81.0</td>\n",
       "      <td>82.0</td>\n",
       "      <td>-1.0</td>\n",
       "      <td>43.0</td>\n",
       "      <td>46.0</td>\n",
       "      <td>-22.0</td>\n",
       "      <td>50.0</td>\n",
       "      <td>88.0</td>\n",
       "    </tr>\n",
       "    <tr>\n",
       "      <th>498</th>\n",
       "      <td>-57.0</td>\n",
       "      <td>-13.0</td>\n",
       "      <td>-99.0</td>\n",
       "      <td>-84.0</td>\n",
       "      <td>-47.0</td>\n",
       "      <td>-15.0</td>\n",
       "      <td>-92.0</td>\n",
       "      <td>49.0</td>\n",
       "      <td>-28.0</td>\n",
       "      <td>37.0</td>\n",
       "    </tr>\n",
       "    <tr>\n",
       "      <th>499</th>\n",
       "      <td>-34.0</td>\n",
       "      <td>16.0</td>\n",
       "      <td>-5.0</td>\n",
       "      <td>18.0</td>\n",
       "      <td>-15.0</td>\n",
       "      <td>68.0</td>\n",
       "      <td>-61.0</td>\n",
       "      <td>1.0</td>\n",
       "      <td>41.0</td>\n",
       "      <td>27.0</td>\n",
       "    </tr>\n",
       "  </tbody>\n",
       "</table>\n",
       "<p>500 rows × 10 columns</p>\n",
       "</div>"
      ],
      "text/plain": [
       "        A     B     C      D     F     G     H     I     j     k\n",
       "0   -99.0 -16.0 -73.0  -84.0 -59.0 -11.0  -6.0   6.0 -41.0  23.0\n",
       "1   -60.0 -35.0 -35.0  -69.0  73.0  61.0 -62.0  82.0 -44.0  59.0\n",
       "2    31.0  57.0 -11.0  -44.0  11.0  44.0 -89.0  17.0   6.0  69.0\n",
       "3   -59.0  -9.0 -85.0  -60.0 -28.0 -73.0 -78.0  12.0 -72.0  75.0\n",
       "4   -13.0 -19.0 -50.0 -100.0 -48.0 -64.0 -54.0  58.0 -71.0   1.0\n",
       "..    ...   ...   ...    ...   ...   ...   ...   ...   ...   ...\n",
       "495  37.0  36.0 -25.0  -59.0 -86.0  59.0 -20.0  30.0   5.0  59.0\n",
       "496 -96.0  48.0 -81.0   73.0 -54.0  24.0  44.0 -51.0  34.0  82.0\n",
       "497 -83.0 -35.0 -81.0   82.0  -1.0  43.0  46.0 -22.0  50.0  88.0\n",
       "498 -57.0 -13.0 -99.0  -84.0 -47.0 -15.0 -92.0  49.0 -28.0  37.0\n",
       "499 -34.0  16.0  -5.0   18.0 -15.0  68.0 -61.0   1.0  41.0  27.0\n",
       "\n",
       "[500 rows x 10 columns]"
      ]
     },
     "execution_count": 19,
     "metadata": {},
     "output_type": "execute_result"
    }
   ],
   "source": [
    "df"
   ]
  },
  {
   "cell_type": "code",
   "execution_count": null,
   "metadata": {},
   "outputs": [],
   "source": [
    "df.to_csv('datasets/malicious_data_generated.csv' ,header=False,index=False)"
   ]
  }
 ],
 "metadata": {
  "interpreter": {
   "hash": "9473da5ae0246818811f990c8d8d355fa459f78acfd938d62f5df4aaa2b459e5"
  },
  "kernelspec": {
   "display_name": "Python 3.8.11 64-bit ('latest tf 101021': conda)",
   "name": "python3"
  },
  "language_info": {
   "codemirror_mode": {
    "name": "ipython",
    "version": 3
   },
   "file_extension": ".py",
   "mimetype": "text/x-python",
   "name": "python",
   "nbconvert_exporter": "python",
   "pygments_lexer": "ipython3",
   "version": "3.8.11"
  },
  "orig_nbformat": 4
 },
 "nbformat": 4,
 "nbformat_minor": 2
}
