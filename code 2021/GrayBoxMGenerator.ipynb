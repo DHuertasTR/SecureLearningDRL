{
 "cells": [
  {
   "cell_type": "markdown",
   "source": [
    "## Malware generator\r\n",
    "\r\n",
    "Utilizando el mejor modelo entrenado y a partir de una GAN genera datos correspondientes a malware aleatorio."
   ],
   "metadata": {}
  },
  {
   "cell_type": "code",
   "execution_count": null,
   "source": [],
   "outputs": [],
   "metadata": {}
  }
 ],
 "metadata": {
  "orig_nbformat": 4,
  "language_info": {
   "name": "python"
  }
 },
 "nbformat": 4,
 "nbformat_minor": 2
}