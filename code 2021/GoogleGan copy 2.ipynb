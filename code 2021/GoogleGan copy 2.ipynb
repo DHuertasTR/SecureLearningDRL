{
 "cells": [
  {
   "cell_type": "code",
   "execution_count": 1,
   "source": [
    "from gym import Env\r\n",
    "from gym.spaces import Discrete, Box\r\n",
    "import numpy as np\r\n",
    "import random\r\n",
    "import tensorflow as tf\r\n",
    "import pandas as pd\r\n",
    "import joblib as jb"
   ],
   "outputs": [],
   "metadata": {}
  },
  {
   "cell_type": "code",
   "execution_count": 2,
   "source": [
    "configuration = tf.compat.v1.ConfigProto()\r\n",
    "configuration.gpu_options.allow_growth = True\r\n",
    "configuration.gpu_options.per_process_gpu_memory_fraction = 1\r\n",
    "session = tf.compat.v1.Session(config=configuration)\r\n"
   ],
   "outputs": [],
   "metadata": {}
  },
  {
   "cell_type": "code",
   "execution_count": 3,
   "source": [
    "model=jb.load('rfDefense2021.sav')\r\n",
    "print(model)"
   ],
   "outputs": [
    {
     "output_type": "stream",
     "name": "stdout",
     "text": [
      "RandomForestClassifier(max_depth=50, n_estimators=250, random_state=45)\n"
     ]
    }
   ],
   "metadata": {}
  },
  {
   "cell_type": "code",
   "execution_count": 4,
   "source": [
    "data=pd.read_csv('datasets/malicious_data_generated.csv')\r\n",
    "npdata=data.to_numpy()\r\n",
    "malData=np.copy(npdata)\r\n",
    "print(type(malData[1,:]))\r\n",
    "print(malData[:1].shape)"
   ],
   "outputs": [
    {
     "output_type": "stream",
     "name": "stdout",
     "text": [
      "<class 'numpy.ndarray'>\n",
      "(1, 10)\n"
     ]
    }
   ],
   "metadata": {}
  },
  {
   "cell_type": "code",
   "execution_count": 5,
   "source": [
    "class MalwareEnv():\r\n",
    "    def __init__(self):\r\n",
    "        # Actions we can take, decrease, increse, none\r\n",
    "        self.action_space = Discrete(10)\r\n",
    "        # max-min array\r\n",
    "        self.observation_space = Box(low=-100,high=100,shape=(10,))\r\n",
    "        \r\n",
    "        # Set start \r\n",
    "        self.state = np.asarray(malData[random.randint(0,499),:])\r\n",
    "        \r\n",
    "        # Set time \r\n",
    "        self.length = 60\r\n",
    "        \r\n",
    "    def step(self, action):\r\n",
    "        # Apply action for each state\r\n",
    "        if(action<10):\r\n",
    "            if(action==0):\r\n",
    "                self.state[0]=round(random.uniform(-0.290698,133.441860),6)\r\n",
    "            elif(action==1):\r\n",
    "                 self.state[1]=round(random.uniform(0,1184),6)\r\n",
    "            elif(action==2):\r\n",
    "                 self.state[2]=round(random.uniform(-0.666667,10.666667),6)\r\n",
    "            elif(action==3):\r\n",
    "                 self.state[3]=round(random.uniform(-0.312383,109.259173),6)\r\n",
    "            elif(action==4):\r\n",
    "                 self.state[4]=round(random.uniform(0,30),6)\r\n",
    "            elif(action==5):\r\n",
    "                 self.state[5]=round(random.uniform(-0.322,127.488889),6)\r\n",
    "            elif(action==6):\r\n",
    "                 self.state[6]=round(random.uniform(-0.282353,147.976471),6)\r\n",
    "            elif(action==7):\r\n",
    "                 self.state[7]=round(random.uniform(-0.164688,715.616633),6)\r\n",
    "            elif(action==8):\r\n",
    "                 self.state[8]=round(random.uniform(-0.324081,106.407677),6)\r\n",
    "            else:\r\n",
    "                 self.state[9]=round(random.uniform(-0.750000,227.5),6)                     \r\n",
    "        \r\n",
    "        \r\n",
    "        self.length -= 1 \r\n",
    "            \r\n",
    "        \r\n",
    "        # Calculate reward in ranges\r\n",
    "        \r\n",
    "        \r\n",
    "        \r\n",
    "        result=model.predict(self.state.reshape(1,-1))\r\n",
    "        result=np.array2string(result)         \r\n",
    "        if(result==\"['benign']\"):\r\n",
    "           reward=1\r\n",
    "        else:\r\n",
    "            reward=-1\r\n",
    "                 \r\n",
    "        \r\n",
    "        # Check if is done\r\n",
    "        if self.length <= 0: \r\n",
    "            done = True\r\n",
    "        else:\r\n",
    "            done = False\r\n",
    "        \r\n",
    "        \r\n",
    "        info = {}\r\n",
    "        \r\n",
    "        # Return step information\r\n",
    "        return self.state, reward, done, info\r\n",
    "\r\n",
    "    def render(self):\r\n",
    "        pass\r\n",
    "    \r\n",
    "    def reset(self):\r\n",
    "        # Reset \r\n",
    "        self.state = malData[random.randint(0,498),:]\r\n",
    "        # Reset time\r\n",
    "        self.length = 60 \r\n",
    "        return self.state"
   ],
   "outputs": [],
   "metadata": {}
  },
  {
   "cell_type": "code",
   "execution_count": 6,
   "source": [
    "env = MalwareEnv()"
   ],
   "outputs": [],
   "metadata": {}
  },
  {
   "cell_type": "code",
   "execution_count": 7,
   "source": [
    "env.observation_space.sample()"
   ],
   "outputs": [
    {
     "output_type": "execute_result",
     "data": {
      "text/plain": [
       "array([-20.437513,  80.77766 ,  18.623774,  87.57744 , -83.37215 ,\n",
       "       -69.76168 ,  63.0373  , -31.155664, -85.04034 ,  48.737904],\n",
       "      dtype=float32)"
      ]
     },
     "metadata": {},
     "execution_count": 7
    }
   ],
   "metadata": {}
  },
  {
   "cell_type": "code",
   "execution_count": 8,
   "source": [
    "with tf.device('/gpu:0'):\r\n",
    "    episodes = 10\r\n",
    "    for episode in range(1, episodes+1):\r\n",
    "        state = env.reset()\r\n",
    "        done = False\r\n",
    "        score = 0 \r\n",
    "    \r\n",
    "        while not done:\r\n",
    "            #env.render()\r\n",
    "            action = env.action_space.sample()\r\n",
    "            n_state, reward, done, info = env.step(action)\r\n",
    "            score+=reward\r\n",
    "        print('Episode:{} Score:{}'.format(episode, score))"
   ],
   "outputs": [
    {
     "output_type": "stream",
     "name": "stdout",
     "text": [
      "Episode:1 Score:52\n",
      "Episode:2 Score:56\n",
      "Episode:3 Score:60\n",
      "Episode:4 Score:60\n",
      "Episode:5 Score:54\n",
      "Episode:6 Score:50\n",
      "Episode:7 Score:60\n",
      "Episode:8 Score:56\n",
      "Episode:9 Score:58\n",
      "Episode:10 Score:60\n"
     ]
    }
   ],
   "metadata": {}
  },
  {
   "cell_type": "code",
   "execution_count": 9,
   "source": [
    "import numpy as np\r\n",
    "from tensorflow.keras.models import Sequential\r\n",
    "from tensorflow.keras.layers import Dense, Flatten\r\n",
    "from tensorflow.keras.optimizers import Adam\r\n",
    "import tensorflow"
   ],
   "outputs": [],
   "metadata": {}
  },
  {
   "cell_type": "code",
   "execution_count": 10,
   "source": [
    "states = env.observation_space.shape\r\n",
    "actions = env.action_space.n"
   ],
   "outputs": [],
   "metadata": {}
  },
  {
   "cell_type": "code",
   "execution_count": 11,
   "source": [
    "actions"
   ],
   "outputs": [
    {
     "output_type": "execute_result",
     "data": {
      "text/plain": [
       "10"
      ]
     },
     "metadata": {},
     "execution_count": 11
    }
   ],
   "metadata": {}
  },
  {
   "cell_type": "code",
   "execution_count": 12,
   "source": [
    "states"
   ],
   "outputs": [
    {
     "output_type": "execute_result",
     "data": {
      "text/plain": [
       "(10,)"
      ]
     },
     "metadata": {},
     "execution_count": 12
    }
   ],
   "metadata": {}
  },
  {
   "cell_type": "code",
   "execution_count": 13,
   "source": [
    "def build_model(states, actions):\r\n",
    "    with tf.device('/gpu:0'):\r\n",
    "        model = tensorflow.keras.models.Sequential()   \r\n",
    "        model.add(tensorflow.keras.layers.Dense(24, activation='relu', input_shape=(None,10,1)))\r\n",
    "        model.add(tensorflow.keras.layers.Dense(24, activation='relu'))\r\n",
    "        model.add(tensorflow.keras.layers.Dense(10, activation='linear'))\r\n",
    "        #model.add(Flatten())\r\n",
    "\r\n",
    "        return model"
   ],
   "outputs": [],
   "metadata": {}
  },
  {
   "cell_type": "code",
   "execution_count": null,
   "source": [
    "def build_modelVersion2(states, actions):\r\n",
    "    with tf.device('/gpu:0'):\r\n",
    "        model = tensorflow.keras.models.Sequential()   \r\n",
    "        model.add(tensorflow.keras.layers.Dense(24, activation='relu', input_shape=(None,10,1)))\r\n",
    "        model.add(tensorflow.keras.layers.Dense(24, activation='relu'))\r\n",
    "        model.add(tensorflow.keras.layers.Dense(10, activation='linear'))\r\n",
    "        #model.add(Flatten())\r\n",
    "\r\n",
    "        return model"
   ],
   "outputs": [],
   "metadata": {}
  },
  {
   "cell_type": "code",
   "execution_count": 14,
   "source": [
    "\r\n",
    "#with tf.device('/gpu:0'):\r\n",
    "model = build_model(states, actions)"
   ],
   "outputs": [],
   "metadata": {}
  },
  {
   "cell_type": "code",
   "execution_count": 15,
   "source": [
    "model.summary()"
   ],
   "outputs": [
    {
     "output_type": "stream",
     "name": "stdout",
     "text": [
      "Model: \"sequential\"\n",
      "_________________________________________________________________\n",
      "Layer (type)                 Output Shape              Param #   \n",
      "=================================================================\n",
      "dense (Dense)                (None, None, 10, 24)      48        \n",
      "_________________________________________________________________\n",
      "dense_1 (Dense)              (None, None, 10, 24)      600       \n",
      "_________________________________________________________________\n",
      "dense_2 (Dense)              (None, None, 10, 10)      250       \n",
      "=================================================================\n",
      "Total params: 898\n",
      "Trainable params: 898\n",
      "Non-trainable params: 0\n",
      "_________________________________________________________________\n"
     ]
    }
   ],
   "metadata": {}
  },
  {
   "cell_type": "code",
   "execution_count": 16,
   "source": [
    "from rl.agents import DQNAgent\r\n",
    "from rl.policy import EpsGreedyQPolicy\r\n",
    "from rl.memory import SequentialMemory\r\n"
   ],
   "outputs": [],
   "metadata": {}
  },
  {
   "cell_type": "code",
   "execution_count": 17,
   "source": [
    "def build_agent(model, actions):\r\n",
    "    policy = EpsGreedyQPolicy()\r\n",
    "    memory = SequentialMemory(limit=50000, window_length=1)\r\n",
    "    dqn = DQNAgent(model=model, memory=memory, policy=policy, \r\n",
    "                  nb_actions=actions, nb_steps_warmup=10, target_model_update=1e-2)\r\n",
    "    return dqn"
   ],
   "outputs": [],
   "metadata": {}
  },
  {
   "cell_type": "code",
   "execution_count": 20,
   "source": [
    "with tf.device('/gpu:0'):\r\n",
    "    dqn = build_agent(model, actions)\r\n",
    "    dqn.compile(Adam(lr=1e-3), metrics=['mae'])\r\n",
    "    dqn.fit(env, nb_steps=10000, visualize=False, verbose=1)"
   ],
   "outputs": [
    {
     "output_type": "error",
     "ename": "ValueError",
     "evalue": "Model output \"KerasTensor(type_spec=TensorSpec(shape=(None, None, 10, 10), dtype=tf.float32, name=None), name='dense_2/BiasAdd:0', description=\"created by layer 'dense_2'\")\" has invalid shape. DQN expects a model that has one dimension for each action, in this case 10.",
     "traceback": [
      "\u001b[1;31m---------------------------------------------------------------------------\u001b[0m",
      "\u001b[1;31mValueError\u001b[0m                                Traceback (most recent call last)",
      "\u001b[1;32m~\\AppData\\Local\\Temp/ipykernel_17356/1411118173.py\u001b[0m in \u001b[0;36m<module>\u001b[1;34m\u001b[0m\n\u001b[0;32m      1\u001b[0m \u001b[1;32mwith\u001b[0m \u001b[0mtf\u001b[0m\u001b[1;33m.\u001b[0m\u001b[0mdevice\u001b[0m\u001b[1;33m(\u001b[0m\u001b[1;34m'/gpu:0'\u001b[0m\u001b[1;33m)\u001b[0m\u001b[1;33m:\u001b[0m\u001b[1;33m\u001b[0m\u001b[1;33m\u001b[0m\u001b[0m\n\u001b[1;32m----> 2\u001b[1;33m     \u001b[0mdqn\u001b[0m \u001b[1;33m=\u001b[0m \u001b[0mbuild_agent\u001b[0m\u001b[1;33m(\u001b[0m\u001b[0mmodel\u001b[0m\u001b[1;33m,\u001b[0m \u001b[0mactions\u001b[0m\u001b[1;33m)\u001b[0m\u001b[1;33m\u001b[0m\u001b[1;33m\u001b[0m\u001b[0m\n\u001b[0m\u001b[0;32m      3\u001b[0m     \u001b[0mdqn\u001b[0m\u001b[1;33m.\u001b[0m\u001b[0mcompile\u001b[0m\u001b[1;33m(\u001b[0m\u001b[0mAdam\u001b[0m\u001b[1;33m(\u001b[0m\u001b[0mlr\u001b[0m\u001b[1;33m=\u001b[0m\u001b[1;36m1e-3\u001b[0m\u001b[1;33m)\u001b[0m\u001b[1;33m,\u001b[0m \u001b[0mmetrics\u001b[0m\u001b[1;33m=\u001b[0m\u001b[1;33m[\u001b[0m\u001b[1;34m'mae'\u001b[0m\u001b[1;33m]\u001b[0m\u001b[1;33m)\u001b[0m\u001b[1;33m\u001b[0m\u001b[1;33m\u001b[0m\u001b[0m\n\u001b[0;32m      4\u001b[0m     \u001b[0mdqn\u001b[0m\u001b[1;33m.\u001b[0m\u001b[0mfit\u001b[0m\u001b[1;33m(\u001b[0m\u001b[0menv\u001b[0m\u001b[1;33m,\u001b[0m \u001b[0mnb_steps\u001b[0m\u001b[1;33m=\u001b[0m\u001b[1;36m10000\u001b[0m\u001b[1;33m,\u001b[0m \u001b[0mvisualize\u001b[0m\u001b[1;33m=\u001b[0m\u001b[1;32mFalse\u001b[0m\u001b[1;33m,\u001b[0m \u001b[0mverbose\u001b[0m\u001b[1;33m=\u001b[0m\u001b[1;36m1\u001b[0m\u001b[1;33m)\u001b[0m\u001b[1;33m\u001b[0m\u001b[1;33m\u001b[0m\u001b[0m\n",
      "\u001b[1;32m~\\AppData\\Local\\Temp/ipykernel_17356/3433771177.py\u001b[0m in \u001b[0;36mbuild_agent\u001b[1;34m(model, actions)\u001b[0m\n\u001b[0;32m      2\u001b[0m     \u001b[0mpolicy\u001b[0m \u001b[1;33m=\u001b[0m \u001b[0mEpsGreedyQPolicy\u001b[0m\u001b[1;33m(\u001b[0m\u001b[1;33m)\u001b[0m\u001b[1;33m\u001b[0m\u001b[1;33m\u001b[0m\u001b[0m\n\u001b[0;32m      3\u001b[0m     \u001b[0mmemory\u001b[0m \u001b[1;33m=\u001b[0m \u001b[0mSequentialMemory\u001b[0m\u001b[1;33m(\u001b[0m\u001b[0mlimit\u001b[0m\u001b[1;33m=\u001b[0m\u001b[1;36m50000\u001b[0m\u001b[1;33m,\u001b[0m \u001b[0mwindow_length\u001b[0m\u001b[1;33m=\u001b[0m\u001b[1;36m1\u001b[0m\u001b[1;33m)\u001b[0m\u001b[1;33m\u001b[0m\u001b[1;33m\u001b[0m\u001b[0m\n\u001b[1;32m----> 4\u001b[1;33m     dqn = DQNAgent(model=model, memory=memory, policy=policy, \n\u001b[0m\u001b[0;32m      5\u001b[0m                   nb_actions=actions, nb_steps_warmup=10, target_model_update=1e-2)\n\u001b[0;32m      6\u001b[0m     \u001b[1;32mreturn\u001b[0m \u001b[0mdqn\u001b[0m\u001b[1;33m\u001b[0m\u001b[1;33m\u001b[0m\u001b[0m\n",
      "\u001b[1;32m~\\AppData\\Roaming\\Python\\Python38\\site-packages\\rl\\agents\\dqn.py\u001b[0m in \u001b[0;36m__init__\u001b[1;34m(self, model, policy, test_policy, enable_double_dqn, enable_dueling_network, dueling_type, *args, **kwargs)\u001b[0m\n\u001b[0;32m    105\u001b[0m         \u001b[1;31m# Validate (important) input.\u001b[0m\u001b[1;33m\u001b[0m\u001b[1;33m\u001b[0m\u001b[1;33m\u001b[0m\u001b[0m\n\u001b[0;32m    106\u001b[0m         \u001b[1;32mif\u001b[0m \u001b[0mlist\u001b[0m\u001b[1;33m(\u001b[0m\u001b[0mmodel\u001b[0m\u001b[1;33m.\u001b[0m\u001b[0moutput\u001b[0m\u001b[1;33m.\u001b[0m\u001b[0mshape\u001b[0m\u001b[1;33m)\u001b[0m \u001b[1;33m!=\u001b[0m \u001b[0mlist\u001b[0m\u001b[1;33m(\u001b[0m\u001b[1;33m(\u001b[0m\u001b[1;32mNone\u001b[0m\u001b[1;33m,\u001b[0m \u001b[0mself\u001b[0m\u001b[1;33m.\u001b[0m\u001b[0mnb_actions\u001b[0m\u001b[1;33m)\u001b[0m\u001b[1;33m)\u001b[0m\u001b[1;33m:\u001b[0m\u001b[1;33m\u001b[0m\u001b[1;33m\u001b[0m\u001b[0m\n\u001b[1;32m--> 107\u001b[1;33m             \u001b[1;32mraise\u001b[0m \u001b[0mValueError\u001b[0m\u001b[1;33m(\u001b[0m\u001b[1;34mf'Model output \"{model.output}\" has invalid shape. DQN expects a model that has one dimension for each action, in this case {self.nb_actions}.'\u001b[0m\u001b[1;33m)\u001b[0m\u001b[1;33m\u001b[0m\u001b[1;33m\u001b[0m\u001b[0m\n\u001b[0m\u001b[0;32m    108\u001b[0m \u001b[1;33m\u001b[0m\u001b[0m\n\u001b[0;32m    109\u001b[0m         \u001b[1;31m# Parameters.\u001b[0m\u001b[1;33m\u001b[0m\u001b[1;33m\u001b[0m\u001b[1;33m\u001b[0m\u001b[0m\n",
      "\u001b[1;31mValueError\u001b[0m: Model output \"KerasTensor(type_spec=TensorSpec(shape=(None, None, 10, 10), dtype=tf.float32, name=None), name='dense_2/BiasAdd:0', description=\"created by layer 'dense_2'\")\" has invalid shape. DQN expects a model that has one dimension for each action, in this case 10."
     ]
    }
   ],
   "metadata": {}
  }
 ],
 "metadata": {
  "orig_nbformat": 4,
  "language_info": {
   "name": "python",
   "version": "3.8.11",
   "mimetype": "text/x-python",
   "codemirror_mode": {
    "name": "ipython",
    "version": 3
   },
   "pygments_lexer": "ipython3",
   "nbconvert_exporter": "python",
   "file_extension": ".py"
  },
  "kernelspec": {
   "name": "python3",
   "display_name": "Python 3.8.11 64-bit ('Gpu-tf25': conda)"
  },
  "interpreter": {
   "hash": "b05050c2803b06b70539df47848b82e4d8e29ab432a59cfb5d2f7080b5c5fb61"
  }
 },
 "nbformat": 4,
 "nbformat_minor": 2
}