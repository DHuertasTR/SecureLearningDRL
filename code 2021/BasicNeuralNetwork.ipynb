{
 "cells": [
  {
   "cell_type": "code",
   "execution_count": 5,
   "source": [
    "import tensorflow\r\n",
    "from tensorflow.keras import models\r\n",
    "from tensorflow.keras.layers import Dense"
   ],
   "outputs": [],
   "metadata": {}
  },
  {
   "cell_type": "code",
   "execution_count": 8,
   "source": [
    "model=models.Sequential()\r\n",
    "model.add(Dense(24,input_shape=(10,), activation='relu'))\r\n",
    "model.add(Dense(64,activation='relu'))\r\n",
    "model.add(Dense(10,activation='relu'))"
   ],
   "outputs": [],
   "metadata": {}
  },
  {
   "cell_type": "code",
   "execution_count": null,
   "source": [],
   "outputs": [],
   "metadata": {}
  }
 ],
 "metadata": {
  "orig_nbformat": 4,
  "language_info": {
   "name": "python",
   "version": "3.8.11",
   "mimetype": "text/x-python",
   "codemirror_mode": {
    "name": "ipython",
    "version": 3
   },
   "pygments_lexer": "ipython3",
   "nbconvert_exporter": "python",
   "file_extension": ".py"
  },
  "kernelspec": {
   "name": "python3",
   "display_name": "Python 3.8.11 64-bit ('pgd': conda)"
  },
  "interpreter": {
   "hash": "cabac2954cf654a7c1a0a2cb4143c0d9684498a99fac728f492c82ef13f7b48d"
  }
 },
 "nbformat": 4,
 "nbformat_minor": 2
}