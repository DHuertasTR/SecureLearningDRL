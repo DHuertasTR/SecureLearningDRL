{
 "cells": [
  {
   "cell_type": "markdown",
   "source": [
    "## Scan and find \r\n",
    "\r\n",
    "Busca en primer lugar las cantidades de variables, para luego encontrar el tipo de estas a partir de la consulta de un modelo victima. giugiugi"
   ],
   "metadata": {}
  },
  {
   "cell_type": "code",
   "execution_count": null,
   "source": [],
   "outputs": [],
   "metadata": {}
  },
  {
   "cell_type": "markdown",
   "source": [
    "## Load best model"
   ],
   "metadata": {}
  },
  {
   "cell_type": "code",
   "execution_count": 3,
   "source": [
    "import joblib as jb\r\n",
    "import numpy as np"
   ],
   "outputs": [],
   "metadata": {}
  },
  {
   "cell_type": "code",
   "execution_count": 4,
   "source": [
    "model=jb.load('rfDefense2021.sav')\r\n",
    "print(model)"
   ],
   "outputs": [
    {
     "output_type": "stream",
     "name": "stdout",
     "text": [
      "RandomForestClassifier(max_depth=50, n_estimators=250, random_state=45)\n"
     ]
    }
   ],
   "metadata": {}
  },
  {
   "cell_type": "code",
   "execution_count": 5,
   "source": [
    "datafake=np.array([[0]])"
   ],
   "outputs": [],
   "metadata": {}
  },
  {
   "cell_type": "code",
   "execution_count": 10,
   "source": [
    "try:\r\n",
    "    model.predict(datafake)\r\n",
    "except Exception as ex:\r\n",
    "    text = \"An exception of type {} occurred. Arguments:\\n{}\"\r\n",
    "    message = text.format(type(ex).__name__, ex.args)\r\n",
    "    print (message)"
   ],
   "outputs": [
    {
     "output_type": "stream",
     "name": "stdout",
     "text": [
      "An exception of type ValueError occurred. Arguments:\n",
      "('X has 1 features, but DecisionTreeClassifier is expecting 10 features as input.',)\n"
     ]
    }
   ],
   "metadata": {}
  },
  {
   "cell_type": "markdown",
   "source": [
    "ahora se testea el tipo de variables"
   ],
   "metadata": {}
  },
  {
   "cell_type": "code",
   "execution_count": 40,
   "source": [
    "datafake=np.array([[\"0\",\"0\",\"1\",\"0\",\"500\",0,0,0,0,0]])"
   ],
   "outputs": [],
   "metadata": {}
  },
  {
   "cell_type": "code",
   "execution_count": 41,
   "source": [
    "try:\r\n",
    "    print(model.predict(datafake))\r\n",
    "except Exception as ex:\r\n",
    "    text = \"An exception of type {} occurred. Arguments:\\n{}\"\r\n",
    "    message = text.format(type(ex).__name__, ex.args)\r\n",
    "    print (message)"
   ],
   "outputs": [
    {
     "output_type": "stream",
     "name": "stdout",
     "text": [
      "['benign']\n"
     ]
    }
   ],
   "metadata": {}
  },
  {
   "cell_type": "markdown",
   "source": [
    "El modelo recibe datos numericos solamente aunque estos esten en formato string.\r\n",
    " reconoce el error de tipo cuando:\r\n",
    "- al menos una variable es string y contiene letras\r\n",
    "- todas las variables son string y son números\r\n",
    "\r\n",
    "no lo reconoce cuando:\r\n",
    "- hay enteros y string que contienen numeros\r\n"
   ],
   "metadata": {}
  },
  {
   "cell_type": "code",
   "execution_count": null,
   "source": [],
   "outputs": [],
   "metadata": {}
  }
 ],
 "metadata": {
  "orig_nbformat": 4,
  "language_info": {
   "name": "python",
   "version": "3.8.11",
   "mimetype": "text/x-python",
   "codemirror_mode": {
    "name": "ipython",
    "version": 3
   },
   "pygments_lexer": "ipython3",
   "nbconvert_exporter": "python",
   "file_extension": ".py"
  },
  "kernelspec": {
   "name": "python3",
   "display_name": "Python 3.8.11 64-bit ('jupy': conda)"
  },
  "interpreter": {
   "hash": "2aafba6fd41afbc37b2c539ff55e748439b864b56a5a196fba85a643518eef0d"
  }
 },
 "nbformat": 4,
 "nbformat_minor": 2
}