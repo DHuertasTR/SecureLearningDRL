{
 "cells": [
  {
   "cell_type": "markdown",
   "source": [
    "## Scan and find \r\n",
    "\r\n",
    "Busca en primer lugar las cantidades de variables, para luego encontrar el tipo de estas a partir de la consulta de un modelo victima."
   ],
   "metadata": {}
  },
  {
   "cell_type": "code",
   "execution_count": null,
   "source": [],
   "outputs": [],
   "metadata": {}
  }
 ],
 "metadata": {
  "orig_nbformat": 4,
  "language_info": {
   "name": "python"
  }
 },
 "nbformat": 4,
 "nbformat_minor": 2
}