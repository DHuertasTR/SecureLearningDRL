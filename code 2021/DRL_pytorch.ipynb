{
 "cells": [
  {
   "cell_type": "code",
   "execution_count": 140,
   "metadata": {},
   "outputs": [],
   "source": [
    "import numpy as np\n",
    "import pandas as pd\n",
    "from Evaluator import ModelEvaluator\n",
    "import torch\n",
    "import random\n",
    "from matplotlib import pylab as plt\n",
    "from IPython.display import clear_output"
   ]
  },
  {
   "cell_type": "code",
   "execution_count": 141,
   "metadata": {},
   "outputs": [
    {
     "name": "stdout",
     "output_type": "stream",
     "text": [
      "<class 'numpy.ndarray'>\n",
      "(1, 10)\n"
     ]
    }
   ],
   "source": [
    "data=pd.read_csv('datasets/malicious_data_generated.csv')\n",
    "npdata=data.to_numpy()\n",
    "malData=np.copy(npdata)\n",
    "print(type(malData[1,:]))\n",
    "print(malData[:1].shape)"
   ]
  },
  {
   "cell_type": "code",
   "execution_count": 142,
   "metadata": {},
   "outputs": [],
   "source": [
    "class MalwareEnv():\n",
    "    def __init__(self):\n",
    "        # Actions we can take, decrease, increse\n",
    "        self.action_space = 20  \n",
    "        # Set start \n",
    "        self.state = np.asarray(malData[random.randint(0,498),:])\n",
    "        #model to evaluate the reward\n",
    "        self.evaluator=ModelEvaluator()\n",
    "        #units to move\n",
    "        self.block=10\n",
    "        \n",
    "        \n",
    "    def step(self, action):\n",
    "        \n",
    "        if(action<9):\n",
    "            self.state[action]+=self.block\n",
    "        elif(action>=9 and action<19):\n",
    "            self.state[action-9]-=self.block\n",
    "            \n",
    "        \n",
    "    def reward(self):\n",
    "        reward=-1\n",
    "        value=self.state.tolist()\n",
    "        result=self.evaluator.test(value)\n",
    "        result=np.array2string(result)\n",
    "        \n",
    "        if(result==\"['benign']\"):\n",
    "                 reward=+10\n",
    "                 \n",
    "        return reward    \n",
    "\n",
    "    def render_np(self):\n",
    "        return self.state\n",
    "    "
   ]
  },
  {
   "cell_type": "code",
   "execution_count": 143,
   "metadata": {},
   "outputs": [],
   "source": [
    "\n",
    "\n",
    "l1 = 10\n",
    "l2 = 24\n",
    "l3 = 72\n",
    "l4 = 20\n",
    "model = torch.nn.Sequential(\n",
    "    torch.nn.Linear(l1, l2),\n",
    "    torch.nn.ReLU(),\n",
    "    torch.nn.Linear(l2, l3),\n",
    "    torch.nn.ReLU(),\n",
    "    torch.nn.Linear(l3,l4)\n",
    ")\n",
    "#device=torch.device(\"cuda:0\" if torch.cuda.is_available else \"cpu\")\n",
    "model.cuda()\n",
    "loss_fn = torch.nn.MSELoss()\n",
    "learning_rate = 1e-3\n",
    "\n",
    "optimizer = torch.optim.Adam(model.parameters(), lr=learning_rate)\n",
    "gamma = 0.9\n",
    "epsilon = 1.0"
   ]
  },
  {
   "cell_type": "code",
   "execution_count": null,
   "metadata": {},
   "outputs": [],
   "source": []
  },
  {
   "cell_type": "code",
   "execution_count": 144,
   "metadata": {},
   "outputs": [
    {
     "name": "stdout",
     "output_type": "stream",
     "text": [
      "1499 7.4639668464660645\n"
     ]
    },
    {
     "name": "stderr",
     "output_type": "stream",
     "text": [
      "D:\\programas\\anaco\\envs\\latest tf 101021\\lib\\site-packages\\torch\\nn\\modules\\loss.py:528: UserWarning: Using a target size (torch.Size([1])) that is different to the input size (torch.Size([])). This will likely lead to incorrect results due to broadcasting. Please ensure they have the same size.\n",
      "  return F.mse_loss(input, target, reduction=self.reduction)\n"
     ]
    }
   ],
   "source": [
    "epochs = 1500\n",
    "losses = [] \n",
    "\n",
    "for i in range(epochs): \n",
    "    env = MalwareEnv() \n",
    "    state_ = env.render_np().reshape(1,10) + np.random.rand(1,10)/50.0 \n",
    "    state1 = torch.from_numpy(state_).float() \n",
    "    status = 1 \n",
    "    while(status == 1): \n",
    "        qval = model(state1.cuda()) \n",
    "        qval_ = qval.data.cpu().numpy()\n",
    "        if (random.random() < epsilon):\n",
    "            action_ = np.random.randint(0,10)\n",
    "        else:\n",
    "            action_ = np.argmax(qval_)\n",
    "        \n",
    "        env.step(action_) \n",
    "        state2_ = env.render_np().reshape(1,10) + np.random.rand(1,10)/50.0\n",
    "        state2 = torch.from_numpy(state2_).float() \n",
    "        reward = env.reward()\n",
    "        with torch.no_grad():\n",
    "            newQ = model(state2.reshape(1,10).cuda())\n",
    "        maxQ = torch.max(newQ) \n",
    "        if reward == -1: \n",
    "            Y = reward + (gamma * maxQ)\n",
    "        else:\n",
    "            Y = reward\n",
    "        Y = torch.Tensor([Y]).detach()\n",
    "        X = qval.squeeze()[action_] \n",
    "        loss = loss_fn(X.cuda(), Y.cuda()) \n",
    "        print(i, loss.item())\n",
    "        clear_output(wait=True)\n",
    "        optimizer.zero_grad()\n",
    "        loss.backward()\n",
    "        losses.append(loss.item())\n",
    "        optimizer.step()\n",
    "        state1 = state2\n",
    "        if reward != -1: \n",
    "            status = 0\n",
    "    if epsilon > 0.1: \n",
    "        epsilon -= (1/epochs)"
   ]
  },
  {
   "cell_type": "code",
   "execution_count": 145,
   "metadata": {},
   "outputs": [],
   "source": [
    "losses\n",
    "clear_output(wait=True)"
   ]
  },
  {
   "cell_type": "code",
   "execution_count": 148,
   "metadata": {},
   "outputs": [
    {
     "data": {
      "text/plain": [
       "Text(0, 0.5, 'Loss')"
      ]
     },
     "execution_count": 148,
     "metadata": {},
     "output_type": "execute_result"
    },
    {
     "data": {
      "image/png": "[encoded data removed]",
      "text/plain": [
       "<Figure size 720x504 with 1 Axes>"
      ]
     },
     "metadata": {
      "needs_background": "light"
     },
     "output_type": "display_data"
    }
   ],
   "source": [
    "plt.figure(figsize=(10,7))\n",
    "plt.plot(losses)\n",
    "plt.xlabel(\"Epochs\",fontsize=22)\n",
    "plt.ylabel(\"Loss\",fontsize=22)"
   ]
  }
 ],
 "metadata": {
  "interpreter": {
   "hash": "9473da5ae0246818811f990c8d8d355fa459f78acfd938d62f5df4aaa2b459e5"
  },
  "kernelspec": {
   "display_name": "Python 3.8.11 64-bit ('latest tf 101021': conda)",
   "name": "python3"
  },
  "language_info": {
   "codemirror_mode": {
    "name": "ipython",
    "version": 3
   },
   "file_extension": ".py",
   "mimetype": "text/x-python",
   "name": "python",
   "nbconvert_exporter": "python",
   "pygments_lexer": "ipython3",
   "version": "3.8.11"
  },
  "orig_nbformat": 4
 },
 "nbformat": 4,
 "nbformat_minor": 2
}
