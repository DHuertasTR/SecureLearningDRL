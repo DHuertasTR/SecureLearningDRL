{
 "cells": [
  {
   "cell_type": "code",
   "execution_count": 644,
   "source": [
    "from gym import Env\r\n",
    "from gym.spaces import Discrete, Box\r\n",
    "import numpy as np\r\n",
    "import random\r\n",
    "import tensorflow as tf\r\n",
    "import pandas as pd\r\n",
    "import joblib as jb\r\n",
    "from Evaluator import ModelEvaluator"
   ],
   "outputs": [],
   "metadata": {}
  },
  {
   "cell_type": "code",
   "execution_count": 645,
   "source": [
    " model=jb.load('rfDefense2021.sav')\r\n",
    " print(model)"
   ],
   "outputs": [
    {
     "output_type": "stream",
     "name": "stdout",
     "text": [
      "RandomForestClassifier(max_depth=50, n_estimators=250, random_state=45)\n"
     ]
    }
   ],
   "metadata": {}
  },
  {
   "cell_type": "code",
   "execution_count": 646,
   "source": [
    "data=pd.read_csv('datasets/malicious_data_generated.csv')\r\n",
    "npdata=data.to_numpy()\r\n",
    "malData=np.copy(npdata)\r\n",
    "print(type(malData[1,:]))\r\n",
    "print(malData[:1].shape)"
   ],
   "outputs": [
    {
     "output_type": "stream",
     "name": "stdout",
     "text": [
      "<class 'numpy.ndarray'>\n",
      "(1, 10)\n"
     ]
    }
   ],
   "metadata": {}
  },
  {
   "cell_type": "code",
   "execution_count": 647,
   "source": [
    "class MalwareEnv():\r\n",
    "    def __init__(self):\r\n",
    "        # Actions we can take, decrease, increse, none\r\n",
    "        self.action_space = Discrete(10)\r\n",
    "        # max-min array\r\n",
    "        self.observation_space = Box(low=-100,high=100,shape=(10,))\r\n",
    "        \r\n",
    "        # Set start \r\n",
    "        self.state = np.asarray(malData[random.randint(0,499),:])\r\n",
    "        \r\n",
    "        # Set time \r\n",
    "        self.length = 10\r\n",
    "        \r\n",
    "        self.evaluator=ModelEvaluator()\r\n",
    "        \r\n",
    "    def step(self, action):\r\n",
    "        # Apply action for each state\r\n",
    "        \r\n",
    "        if(action<10):\r\n",
    "           if(action==0):\r\n",
    "               self.state[0]=round(random.uniform(-0.290698,133.441860),6)\r\n",
    "           elif(action==1):\r\n",
    "                self.state[1]=round(random.uniform(0,1184),6)\r\n",
    "           elif(action==2):\r\n",
    "                self.state[2]=round(random.uniform(-0.666667,10.666667),6)\r\n",
    "           elif(action==3):\r\n",
    "                self.state[3]=round(random.uniform(-0.312383,109.259173),6)\r\n",
    "           elif(action==4):\r\n",
    "                self.state[4]=round(random.uniform(0,30),6)\r\n",
    "           elif(action==5):\r\n",
    "                self.state[5]=round(random.uniform(-0.322,127.488889),6)\r\n",
    "           elif(action==6):\r\n",
    "                self.state[6]=round(random.uniform(-0.282353,147.976471),6)\r\n",
    "           elif(action==7):\r\n",
    "                self.state[7]=round(random.uniform(-0.164688,715.616633),6)\r\n",
    "           elif(action==8):\r\n",
    "                self.state[8]=round(random.uniform(-0.324081,106.407677),6)\r\n",
    "           else:\r\n",
    "                self.state[9]=round(random.uniform(-0.750000,227.5),6)  \r\n",
    "        \r\n",
    "        self.length -= 1 \r\n",
    "            \r\n",
    "        \r\n",
    "        # Calculate reward in ranges\r\n",
    "        \r\n",
    "        value=self.state.tolist()\r\n",
    "        result=self.evaluator.test(value)\r\n",
    "        result=np.array2string(result)\r\n",
    "        \r\n",
    "        if(result==\"['benign']\"):\r\n",
    "                 reward=+1\r\n",
    "                 \r\n",
    "        else:\r\n",
    "                 reward=-1\r\n",
    "        \r\n",
    "        \r\n",
    "        \r\n",
    "            \r\n",
    "                 \r\n",
    "        #if(rewardMulti==0):\r\n",
    "        #    reward=-1\r\n",
    "        #    \r\n",
    "        #else:\r\n",
    "        #    reward=rewardMulti\r\n",
    "                 \r\n",
    "        \r\n",
    "        # Check if is done\r\n",
    "        if self.length <= 0:\r\n",
    "            \r\n",
    "            done = True\r\n",
    "        else:\r\n",
    "            done = False\r\n",
    "        \r\n",
    "        \r\n",
    "        info = {}\r\n",
    "        \r\n",
    "        # Return step information\r\n",
    "        return self.state, reward, done, info\r\n",
    "\r\n",
    "    def render(self):\r\n",
    "        pass\r\n",
    "    \r\n",
    "    def reset(self):\r\n",
    "        # Reset \r\n",
    "        self.state = malData[random.randint(0,498),:]\r\n",
    "        # Reset time\r\n",
    "        self.length = 60 \r\n",
    "        return self.state"
   ],
   "outputs": [],
   "metadata": {}
  },
  {
   "cell_type": "code",
   "execution_count": 648,
   "source": [
    "env.observation_space.sample()"
   ],
   "outputs": [
    {
     "output_type": "execute_result",
     "data": {
      "text/plain": [
       "array([ 93.18925 , -25.524029,  11.785298,  65.14376 ,  46.20102 ,\n",
       "        47.23928 ,  91.41796 ,  99.98343 ,  38.091476,  30.877542],\n",
       "      dtype=float32)"
      ]
     },
     "metadata": {},
     "execution_count": 648
    }
   ],
   "metadata": {}
  },
  {
   "cell_type": "code",
   "execution_count": 649,
   "source": [
    "env = MalwareEnv()"
   ],
   "outputs": [],
   "metadata": {}
  },
  {
   "cell_type": "code",
   "execution_count": 650,
   "source": [
    "env.observation_space.sample()"
   ],
   "outputs": [
    {
     "output_type": "execute_result",
     "data": {
      "text/plain": [
       "array([-8.7883408e+01, -7.2571770e+01,  4.0549145e+01,  1.6392708e+01,\n",
       "       -9.3764687e+01, -5.7374207e+01,  9.4603039e-02,  8.5831673e+01,\n",
       "       -1.9213978e+01, -9.6324219e+01], dtype=float32)"
      ]
     },
     "metadata": {},
     "execution_count": 650
    }
   ],
   "metadata": {}
  },
  {
   "cell_type": "code",
   "execution_count": 651,
   "source": [
    "with tf.device('/gpu:0'):\r\n",
    "    episodes = 2\r\n",
    "    for episode in range(1, episodes+1):\r\n",
    "        state = env.reset()\r\n",
    "        done = False\r\n",
    "        score = 0 \r\n",
    "    \r\n",
    "        while not done:\r\n",
    "            #env.render()\r\n",
    "            action = env.action_space.sample()\r\n",
    "            n_state, reward, done, info = env.step(action)\r\n",
    "            score+=reward\r\n",
    "        print('Episode:{} Score:{}'.format(episode, score))"
   ],
   "outputs": [
    {
     "output_type": "stream",
     "name": "stdout",
     "text": [
      "Episode:1 Score:60\n",
      "Episode:2 Score:60\n"
     ]
    }
   ],
   "metadata": {}
  },
  {
   "cell_type": "code",
   "execution_count": 652,
   "source": [
    "import numpy as np\r\n",
    "from tensorflow.keras.models import Sequential\r\n",
    "from tensorflow.keras.layers import Dense, Flatten\r\n",
    "from tensorflow.keras.optimizers import Adam\r\n",
    "import tensorflow"
   ],
   "outputs": [],
   "metadata": {}
  },
  {
   "cell_type": "code",
   "execution_count": 653,
   "source": [
    "states = env.observation_space.shape\r\n",
    "actions = env.action_space.n"
   ],
   "outputs": [],
   "metadata": {}
  },
  {
   "cell_type": "code",
   "execution_count": 654,
   "source": [
    "actions"
   ],
   "outputs": [
    {
     "output_type": "execute_result",
     "data": {
      "text/plain": [
       "10"
      ]
     },
     "metadata": {},
     "execution_count": 654
    }
   ],
   "metadata": {}
  },
  {
   "cell_type": "code",
   "execution_count": 655,
   "source": [
    "states"
   ],
   "outputs": [
    {
     "output_type": "execute_result",
     "data": {
      "text/plain": [
       "(10,)"
      ]
     },
     "metadata": {},
     "execution_count": 655
    }
   ],
   "metadata": {}
  },
  {
   "cell_type": "code",
   "execution_count": 656,
   "source": [
    "def build_model(states, actions):\r\n",
    "    with tf.device('/gpu:0'):\r\n",
    "        model = tensorflow.keras.models.Sequential()   \r\n",
    "        model.add(tensorflow.keras.layers.Dense(24, activation='relu', input_shape=(1,10)))\r\n",
    "        model.add(tensorflow.keras.layers.Dense(24, activation='relu'))\r\n",
    "        model.add(tensorflow.keras.layers.Dense(10, activation='linear'))\r\n",
    "        model.add(Flatten())\r\n",
    "\r\n",
    "        return model"
   ],
   "outputs": [],
   "metadata": {}
  },
  {
   "cell_type": "code",
   "execution_count": 657,
   "source": [
    "\r\n",
    "#with tf.device('/gpu:0'):\r\n",
    "model = build_model(states, actions)"
   ],
   "outputs": [],
   "metadata": {}
  },
  {
   "cell_type": "code",
   "execution_count": 658,
   "source": [
    "model.summary()"
   ],
   "outputs": [
    {
     "output_type": "stream",
     "name": "stdout",
     "text": [
      "Model: \"sequential_31\"\n",
      "_________________________________________________________________\n",
      "Layer (type)                 Output Shape              Param #   \n",
      "=================================================================\n",
      "dense_93 (Dense)             (None, 1, 24)             264       \n",
      "_________________________________________________________________\n",
      "dense_94 (Dense)             (None, 1, 24)             600       \n",
      "_________________________________________________________________\n",
      "dense_95 (Dense)             (None, 1, 10)             250       \n",
      "_________________________________________________________________\n",
      "flatten_31 (Flatten)         (None, 10)                0         \n",
      "=================================================================\n",
      "Total params: 1,114\n",
      "Trainable params: 1,114\n",
      "Non-trainable params: 0\n",
      "_________________________________________________________________\n"
     ]
    }
   ],
   "metadata": {}
  },
  {
   "cell_type": "code",
   "execution_count": 659,
   "source": [
    "from rl.agents import DQNAgent\r\n",
    "from rl.policy import BoltzmannQPolicy\r\n",
    "from rl.memory import SequentialMemory\r\n"
   ],
   "outputs": [],
   "metadata": {}
  },
  {
   "cell_type": "code",
   "execution_count": 660,
   "source": [
    "def build_agent(model, actions):\r\n",
    "    policy = BoltzmannQPolicy()\r\n",
    "    memory = SequentialMemory(limit=50000, window_length=1)\r\n",
    "    dqn = DQNAgent(model=model, memory=memory, policy=policy, \r\n",
    "                  nb_actions=actions, nb_steps_warmup=100, target_model_update=1e-2)\r\n",
    "    return dqn"
   ],
   "outputs": [],
   "metadata": {}
  },
  {
   "cell_type": "code",
   "execution_count": 661,
   "source": [
    "\r\n",
    "    dqn = build_agent(model, actions)\r\n",
    "    dqn.compile(Adam(lr=1e-3), metrics=['mae'])\r\n",
    "    dqn.fit(env, nb_steps=10000, visualize=False, verbose=1)"
   ],
   "outputs": [
    {
     "output_type": "stream",
     "name": "stdout",
     "text": [
      "Training for 10000 steps ...\n",
      "Interval 1 (0 steps performed)\n",
      "10000/10000 [==============================] - 322s 32ms/step - reward: 0.7424\n",
      "done, took 322.020 seconds\n"
     ]
    },
    {
     "output_type": "execute_result",
     "data": {
      "text/plain": [
       "<tensorflow.python.keras.callbacks.History at 0x207014b3280>"
      ]
     },
     "metadata": {},
     "execution_count": 661
    }
   ],
   "metadata": {}
  }
 ],
 "metadata": {
  "orig_nbformat": 4,
  "language_info": {
   "name": "python",
   "version": "3.8.11",
   "mimetype": "text/x-python",
   "codemirror_mode": {
    "name": "ipython",
    "version": 3
   },
   "pygments_lexer": "ipython3",
   "nbconvert_exporter": "python",
   "file_extension": ".py"
  },
  "kernelspec": {
   "name": "python3",
   "display_name": "Python 3.8.11 64-bit ('version 23': conda)"
  },
  "interpreter": {
   "hash": "307f265ea84935652ed5d09a40a2b9dec80fc1f1f71fbe935d538550163b0f90"
  }
 },
 "nbformat": 4,
 "nbformat_minor": 2
}