{
 "cells": [
  {
   "cell_type": "code",
   "execution_count": 448,
   "source": [
    "from gym import Env\r\n",
    "from gym.spaces import Discrete, Box\r\n",
    "import numpy as np\r\n",
    "import random\r\n",
    "import tensorflow as tf\r\n",
    "import pandas as pd"
   ],
   "outputs": [],
   "metadata": {}
  },
  {
   "cell_type": "code",
   "execution_count": 449,
   "source": [
    "configuration = tf.compat.v1.ConfigProto()\r\n",
    "configuration.gpu_options.allow_growth = False\r\n",
    "configuration.gpu_options.per_process_gpu_memory_fraction = 1\r\n",
    "session = tf.compat.v1.Session(config=configuration)\r\n"
   ],
   "outputs": [],
   "metadata": {}
  },
  {
   "cell_type": "code",
   "execution_count": 450,
   "source": [
    "data=pd.read_csv('datasets/malicious_data_generated.csv')\r\n",
    "npdata=data.to_numpy()\r\n",
    "malData=np.copy(npdata)\r\n",
    "print(type(malData[1,:]))\r\n",
    "print(malData[:1].shape)"
   ],
   "outputs": [
    {
     "output_type": "stream",
     "name": "stdout",
     "text": [
      "<class 'numpy.ndarray'>\n",
      "(1, 10)\n"
     ]
    }
   ],
   "metadata": {}
  },
  {
   "cell_type": "code",
   "execution_count": 451,
   "source": [
    "class MalwareEnv():\r\n",
    "    def __init__(self):\r\n",
    "        # Actions we can take, decrease, increse, none\r\n",
    "        self.action_space = Discrete(20)\r\n",
    "        # max-min array\r\n",
    "        self.observation_space = Box(low=-100,high=100,shape=(10,))\r\n",
    "        \r\n",
    "        # Set start \r\n",
    "        self.state = np.asarray(malData[random.randint(0,499),:])\r\n",
    "        \r\n",
    "        # Set time \r\n",
    "        self.length = 60\r\n",
    "        \r\n",
    "    def step(self, action):\r\n",
    "        # Apply action for each state\r\n",
    "        if(action<10):\r\n",
    "            if(action==0):\r\n",
    "                self.state[0]=self.state[0]+1\r\n",
    "            elif(action==1):\r\n",
    "                 self.state[1]=self.state[1]+1\r\n",
    "            elif(action==2):\r\n",
    "                 self.state[2]=self.state[2]+1\r\n",
    "            elif(action==3):\r\n",
    "                 self.state[3]=self.state[3]+1\r\n",
    "            elif(action==4):\r\n",
    "                 self.state[4]=self.state[4]+1\r\n",
    "            elif(action==5):\r\n",
    "                 self.state[5]=self.state[5]+1\r\n",
    "            elif(action==6):\r\n",
    "                 self.state[6]=self.state[6]+1\r\n",
    "            elif(action==7):\r\n",
    "                 self.state[7]=self.state[7]+1\r\n",
    "            elif(action==8):\r\n",
    "                 self.state[8]=self.state[8]+1\r\n",
    "            else:\r\n",
    "                 self.state[9]=self.state[9]+1                     \r\n",
    "        else:\r\n",
    "            if(action==10):\r\n",
    "                self.state[0]+=self.state[0]-1\r\n",
    "            elif(action==11):\r\n",
    "                 self.state[1]+=self.state[1]-1\r\n",
    "            elif(action==12):\r\n",
    "                 self.state[2]+=self.state[2]-1\r\n",
    "            elif(action==13):\r\n",
    "                 self.state[3]+=self.state[3]-1\r\n",
    "            elif(action==14):\r\n",
    "                 self.state[4]+=self.state[4]-1\r\n",
    "            elif(action==15):\r\n",
    "                 self.state[5]+=self.state[5]-1\r\n",
    "            elif(action==16):\r\n",
    "                 self.state[6]+=self.state[6]-1\r\n",
    "            elif(action==17):\r\n",
    "                 self.state[7]+=self.state[7]-1\r\n",
    "            elif(action==18):\r\n",
    "                 self.state[8]+=self.state[8]-1\r\n",
    "            else:\r\n",
    "                 self.state[9]+=self.state[9]-1  \r\n",
    "        \r\n",
    "        self.length -= 1 \r\n",
    "            \r\n",
    "        \r\n",
    "        # Calculate reward in ranges\r\n",
    "        rewardMulti=0 \r\n",
    "        \r\n",
    "        if(self.state[0]>=-0.290698 and self.state[0]<=-133.441860):\r\n",
    "                 rewardMulti=rewardMulti+1\r\n",
    "        elif(self.state[1]>=0 and self.state[1]<=1184):\r\n",
    "                 rewardMulti=rewardMulti+1\r\n",
    "        elif(self.state[2]>=-0.666667 and self.state[2]<=10.666667):\r\n",
    "                 rewardMulti=rewardMulti+1\r\n",
    "        elif(self.state[3]>=-0.312383 and self.state[3]<=109.259173):\r\n",
    "                 rewardMulti=rewardMulti+1\r\n",
    "        elif(self.state[4]>=0 and self.state[4]<=30):\r\n",
    "                 rewardMulti=rewardMulti+1\r\n",
    "        elif(self.state[5]>=-0.322 and self.state[5]<=127.488889):\r\n",
    "                 rewardMulti=rewardMulti+1\r\n",
    "        elif(self.state[6]>=-0.282353 and self.state[6]<=147.976471):\r\n",
    "                 rewardMulti=rewardMulti+1\r\n",
    "        elif(self.state[7]>=-0.164688 and self.state[7]<=715.616633):\r\n",
    "                 rewardMulti=rewardMulti+1\r\n",
    "        elif(self.state[8]>=-0.324081 and self.state[8]<=106.407677):\r\n",
    "                 rewardMulti=rewardMulti+1\r\n",
    "        elif(self.state[9]>=-0.750000 and self.state[9]<=227.5):\r\n",
    "                 rewardMulti=rewardMulti+1\r\n",
    "                 \r\n",
    "        if(rewardMulti==0):\r\n",
    "            reward=-1\r\n",
    "        else:\r\n",
    "            reward=rewardMulti\r\n",
    "                 \r\n",
    "        \r\n",
    "        # Check if is done\r\n",
    "        if self.length <= 0: \r\n",
    "            done = True\r\n",
    "        else:\r\n",
    "            done = False\r\n",
    "        \r\n",
    "        \r\n",
    "        info = {}\r\n",
    "        \r\n",
    "        # Return step information\r\n",
    "        return self.state, reward, done, info\r\n",
    "\r\n",
    "    def render(self):\r\n",
    "        pass\r\n",
    "    \r\n",
    "    def reset(self):\r\n",
    "        # Reset \r\n",
    "        self.state = malData[random.randint(0,498),:]\r\n",
    "        # Reset time\r\n",
    "        self.length = 60 \r\n",
    "        return self.state"
   ],
   "outputs": [],
   "metadata": {}
  },
  {
   "cell_type": "code",
   "execution_count": 452,
   "source": [
    "env = MalwareEnv()"
   ],
   "outputs": [],
   "metadata": {}
  },
  {
   "cell_type": "code",
   "execution_count": 453,
   "source": [
    "env.observation_space.sample()"
   ],
   "outputs": [
    {
     "output_type": "execute_result",
     "data": {
      "text/plain": [
       "array([-51.34826 , -57.779793, -60.866684,  59.133427,  76.72466 ,\n",
       "       -17.644281, -52.234383,  70.68254 , -30.749245,  90.930695],\n",
       "      dtype=float32)"
      ]
     },
     "metadata": {},
     "execution_count": 453
    }
   ],
   "metadata": {}
  },
  {
   "cell_type": "code",
   "execution_count": 454,
   "source": [
    "with tf.device('/gpu:0'):\r\n",
    "    episodes = 10\r\n",
    "    for episode in range(1, episodes+1):\r\n",
    "        state = env.reset()\r\n",
    "        done = False\r\n",
    "        score = 0 \r\n",
    "    \r\n",
    "        while not done:\r\n",
    "            #env.render()\r\n",
    "            action = env.action_space.sample()\r\n",
    "            n_state, reward, done, info = env.step(action)\r\n",
    "            score+=reward\r\n",
    "        print('Episode:{} Score:{}'.format(episode, score))"
   ],
   "outputs": [
    {
     "output_type": "stream",
     "name": "stdout",
     "text": [
      "Episode:1 Score:60\n",
      "Episode:2 Score:60\n",
      "Episode:3 Score:60\n",
      "Episode:4 Score:60\n",
      "Episode:5 Score:60\n",
      "Episode:6 Score:60\n",
      "Episode:7 Score:60\n",
      "Episode:8 Score:28\n",
      "Episode:9 Score:60\n",
      "Episode:10 Score:60\n"
     ]
    }
   ],
   "metadata": {}
  },
  {
   "cell_type": "code",
   "execution_count": 455,
   "source": [
    "import numpy as np\r\n",
    "from tensorflow.keras.models import Sequential\r\n",
    "from tensorflow.keras.layers import Dense, Flatten\r\n",
    "from tensorflow.keras.optimizers import Adam\r\n",
    "import tensorflow"
   ],
   "outputs": [],
   "metadata": {}
  },
  {
   "cell_type": "code",
   "execution_count": 456,
   "source": [
    "states = env.observation_space.shape\r\n",
    "actions = env.action_space.n"
   ],
   "outputs": [],
   "metadata": {}
  },
  {
   "cell_type": "code",
   "execution_count": 457,
   "source": [
    "actions"
   ],
   "outputs": [
    {
     "output_type": "execute_result",
     "data": {
      "text/plain": [
       "20"
      ]
     },
     "metadata": {},
     "execution_count": 457
    }
   ],
   "metadata": {}
  },
  {
   "cell_type": "code",
   "execution_count": 458,
   "source": [
    "states"
   ],
   "outputs": [
    {
     "output_type": "execute_result",
     "data": {
      "text/plain": [
       "(10,)"
      ]
     },
     "metadata": {},
     "execution_count": 458
    }
   ],
   "metadata": {}
  },
  {
   "cell_type": "code",
   "execution_count": 459,
   "source": [
    "def build_model(states, actions):\r\n",
    "    with tf.device('/gpu:0'):\r\n",
    "        model = tensorflow.keras.models.Sequential()   \r\n",
    "        model.add(tensorflow.keras.layers.Dense(24, activation='relu', input_shape=(1,10)))\r\n",
    "        model.add(tensorflow.keras.layers.Dense(24, activation='relu'))\r\n",
    "        model.add(tensorflow.keras.layers.Dense(20, activation='linear'))\r\n",
    "        model.add(Flatten())\r\n",
    "\r\n",
    "        return model"
   ],
   "outputs": [],
   "metadata": {}
  },
  {
   "cell_type": "code",
   "execution_count": 460,
   "source": [
    "\r\n",
    "#with tf.device('/gpu:0'):\r\n",
    "model = build_model(states, actions)"
   ],
   "outputs": [],
   "metadata": {}
  },
  {
   "cell_type": "code",
   "execution_count": 461,
   "source": [
    "model.summary()"
   ],
   "outputs": [
    {
     "output_type": "stream",
     "name": "stdout",
     "text": [
      "Model: \"sequential_32\"\n",
      "_________________________________________________________________\n",
      "Layer (type)                 Output Shape              Param #   \n",
      "=================================================================\n",
      "dense_91 (Dense)             (None, 1, 24)             264       \n",
      "_________________________________________________________________\n",
      "dense_92 (Dense)             (None, 1, 24)             600       \n",
      "_________________________________________________________________\n",
      "dense_93 (Dense)             (None, 1, 20)             500       \n",
      "_________________________________________________________________\n",
      "flatten_3 (Flatten)          (None, 20)                0         \n",
      "=================================================================\n",
      "Total params: 1,364\n",
      "Trainable params: 1,364\n",
      "Non-trainable params: 0\n",
      "_________________________________________________________________\n"
     ]
    }
   ],
   "metadata": {}
  },
  {
   "cell_type": "code",
   "execution_count": 462,
   "source": [
    "from rl.agents import DQNAgent\r\n",
    "from rl.policy import BoltzmannQPolicy\r\n",
    "from rl.memory import SequentialMemory\r\n"
   ],
   "outputs": [],
   "metadata": {}
  },
  {
   "cell_type": "code",
   "execution_count": 463,
   "source": [
    "def build_agent(model, actions):\r\n",
    "    policy = BoltzmannQPolicy()\r\n",
    "    memory = SequentialMemory(limit=50000, window_length=1)\r\n",
    "    dqn = DQNAgent(model=model, memory=memory, policy=policy, \r\n",
    "                  nb_actions=actions, nb_steps_warmup=10, target_model_update=1e-2)\r\n",
    "    return dqn"
   ],
   "outputs": [],
   "metadata": {}
  },
  {
   "cell_type": "code",
   "execution_count": 464,
   "source": [
    "with tf.device('/gpu:0'):\r\n",
    "    dqn = build_agent(model, actions)\r\n",
    "    dqn.compile(Adam(lr=1e-3), metrics=['mae'])\r\n",
    "    dqn.fit(env, nb_steps=10000, visualize=False, verbose=1)"
   ],
   "outputs": [
    {
     "output_type": "stream",
     "name": "stdout",
     "text": [
      "Training for 10000 steps ...\n",
      "Interval 1 (0 steps performed)\n",
      "10000/10000 [==============================] - 184s 18ms/step - reward: 0.9854\n",
      "done, took 184.206 seconds\n"
     ]
    }
   ],
   "metadata": {}
  }
 ],
 "metadata": {
  "orig_nbformat": 4,
  "language_info": {
   "name": "python",
   "version": "3.8.11",
   "mimetype": "text/x-python",
   "codemirror_mode": {
    "name": "ipython",
    "version": 3
   },
   "pygments_lexer": "ipython3",
   "nbconvert_exporter": "python",
   "file_extension": ".py"
  },
  "kernelspec": {
   "name": "python3",
   "display_name": "Python 3.8.11 64-bit ('Gpu-tf25': conda)"
  },
  "interpreter": {
   "hash": "b05050c2803b06b70539df47848b82e4d8e29ab432a59cfb5d2f7080b5c5fb61"
  }
 },
 "nbformat": 4,
 "nbformat_minor": 2
}