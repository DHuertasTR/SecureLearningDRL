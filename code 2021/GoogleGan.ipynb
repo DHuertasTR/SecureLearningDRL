{
 "cells": [
  {
   "cell_type": "code",
   "execution_count": 1,
   "metadata": {},
   "outputs": [],
   "source": [
    "from gym import Env\n",
    "from gym.spaces import Discrete, Box\n",
    "import numpy as np\n",
    "import random\n",
    "import tensorflow as tf\n",
    "import pandas as pd\n",
    "from Evaluator import ModelEvaluator"
   ]
  },
  {
   "cell_type": "code",
   "execution_count": null,
   "metadata": {},
   "outputs": [],
   "source": [
    " "
   ]
  },
  {
   "cell_type": "code",
   "execution_count": null,
   "metadata": {},
   "outputs": [
    {
     "name": "stdout",
     "output_type": "stream",
     "text": [
      "<class 'numpy.ndarray'>\n",
      "(1, 10)\n"
     ]
    }
   ],
   "source": [
    "data=pd.read_csv('datasets/malicious_data_generated.csv')\n",
    "npdata=data.to_numpy()\n",
    "malData=np.copy(npdata)\n",
    "print(type(malData[1,:]))\n",
    "print(malData[:1].shape)"
   ]
  },
  {
   "cell_type": "code",
   "execution_count": null,
   "metadata": {},
   "outputs": [],
   "source": [
    "class MalwareEnv():\n",
    "    def __init__(self):\n",
    "        # Actions we can take, decrease, increse, none\n",
    "        self.action_space = Discrete(10)\n",
    "        # max-min array\n",
    "        self.observation_space = Box(low=-100,high=100,shape=(10,))\n",
    "        \n",
    "        # Set start \n",
    "        self.state = np.asarray(malData[random.randint(0,498),:])\n",
    "        \n",
    "        # Set time \n",
    "        self.length = 100\n",
    "        \n",
    "        self.evaluator=ModelEvaluator()\n",
    "        \n",
    "    def step(self, action):\n",
    "        # Apply action for each state\n",
    "        \n",
    "        if(action<10):\n",
    "           if(action==0):\n",
    "               self.state[0]=round(random.uniform(-0.290698,133.441860),6)\n",
    "           elif(action==1):\n",
    "                self.state[1]=round(random.uniform(0,1184),6)\n",
    "           elif(action==2):\n",
    "                self.state[2]=round(random.uniform(-0.666667,10.666667),6)\n",
    "           elif(action==3):\n",
    "                self.state[3]=round(random.uniform(-0.312383,109.259173),6)\n",
    "           elif(action==4):\n",
    "                self.state[4]=round(random.uniform(0,30),6)\n",
    "           elif(action==5):\n",
    "                self.state[5]=round(random.uniform(-0.322,127.488889),6)\n",
    "           elif(action==6):\n",
    "                self.state[6]=round(random.uniform(-0.282353,147.976471),6)\n",
    "           elif(action==7):\n",
    "                self.state[7]=round(random.uniform(-0.164688,715.616633),6)\n",
    "           elif(action==8):\n",
    "                self.state[8]=round(random.uniform(-0.324081,106.407677),6)\n",
    "           else:\n",
    "                self.state[9]=round(random.uniform(-0.750000,227.5),6)  \n",
    "        \n",
    "        self.length -= 1 \n",
    "            \n",
    "        \n",
    "        # Calculate reward in ranges\n",
    "        \n",
    "        value=self.state.tolist()\n",
    "        result=self.evaluator.test(value)\n",
    "        result=np.array2string(result)\n",
    "        \n",
    "        if(result==\"['benign']\"):\n",
    "                 reward=+1\n",
    "                 \n",
    "        else:\n",
    "                 reward=-1\n",
    "                 \n",
    "        \n",
    "        # Check if is done\n",
    "        if self.length <= 0:\n",
    "            \n",
    "            done = True\n",
    "        else:\n",
    "            done = False\n",
    "        \n",
    "        \n",
    "        info = {}\n",
    "        \n",
    "        # Return step information\n",
    "        return self.state, reward, done, info\n",
    "\n",
    "    def render(self):\n",
    "        pass\n",
    "    \n",
    "    def reset(self):\n",
    "        # Reset \n",
    "        self.state = malData[random.randint(0,498),:]\n",
    "        # Reset time\n",
    "        self.length = 100 \n",
    "        return self.state"
   ]
  },
  {
   "cell_type": "code",
   "execution_count": null,
   "metadata": {},
   "outputs": [],
   "source": [
    "env = MalwareEnv()"
   ]
  },
  {
   "cell_type": "code",
   "execution_count": null,
   "metadata": {},
   "outputs": [
    {
     "data": {
      "text/plain": [
       "array([ 58.577423,  25.356756,  32.76283 , -34.344772, -73.65691 ,\n",
       "        91.70624 , -57.25532 , -16.59177 , -85.54469 ,  84.98068 ],\n",
       "      dtype=float32)"
      ]
     },
     "execution_count": 106,
     "metadata": {},
     "output_type": "execute_result"
    }
   ],
   "source": [
    "env.observation_space.sample()"
   ]
  },
  {
   "cell_type": "code",
   "execution_count": null,
   "metadata": {},
   "outputs": [
    {
     "name": "stdout",
     "output_type": "stream",
     "text": [
      "Episode:1 Score:100\n",
      "Episode:2 Score:90\n"
     ]
    }
   ],
   "source": [
    "with tf.device('/gpu:0'):\n",
    "    episodes = 2\n",
    "    for episode in range(1, episodes+1):\n",
    "        state = env.reset()\n",
    "        done = False\n",
    "        score = 0 \n",
    "    \n",
    "        while not done:\n",
    "            env.render()\n",
    "            action = env.action_space.sample()\n",
    "            n_state, reward, done, info = env.step(action)\n",
    "            score+=reward\n",
    "        print('Episode:{} Score:{}'.format(episode, score))"
   ]
  },
  {
   "cell_type": "code",
   "execution_count": null,
   "metadata": {},
   "outputs": [],
   "source": [
    "import numpy as np\n",
    "from tensorflow.keras.models import Sequential\n",
    "from tensorflow.keras.layers import Dense, Flatten\n",
    "from tensorflow.keras.optimizers import Adam\n",
    "import tensorflow"
   ]
  },
  {
   "cell_type": "code",
   "execution_count": null,
   "metadata": {},
   "outputs": [],
   "source": [
    "states = env.observation_space.shape\n",
    "actions = env.action_space.n"
   ]
  },
  {
   "cell_type": "code",
   "execution_count": null,
   "metadata": {},
   "outputs": [
    {
     "data": {
      "text/plain": [
       "10"
      ]
     },
     "execution_count": 110,
     "metadata": {},
     "output_type": "execute_result"
    }
   ],
   "source": [
    "actions"
   ]
  },
  {
   "cell_type": "code",
   "execution_count": null,
   "metadata": {},
   "outputs": [
    {
     "data": {
      "text/plain": [
       "(10,)"
      ]
     },
     "execution_count": 111,
     "metadata": {},
     "output_type": "execute_result"
    }
   ],
   "source": [
    "states"
   ]
  },
  {
   "cell_type": "code",
   "execution_count": null,
   "metadata": {},
   "outputs": [],
   "source": [
    "def build_model(states, actions):\n",
    "    with tf.device('/gpu:0'):\n",
    "        model = tensorflow.keras.models.Sequential()   \n",
    "        model.add(tensorflow.keras.layers.Dense(24, activation='relu', input_shape=(1,10)))\n",
    "        model.add(tensorflow.keras.layers.Dense(24, activation='relu'))\n",
    "        model.add(tensorflow.keras.layers.Dense(10, activation='linear'))\n",
    "        model.add(Flatten())\n",
    "\n",
    "        return model"
   ]
  },
  {
   "cell_type": "code",
   "execution_count": null,
   "metadata": {},
   "outputs": [],
   "source": [
    "\n",
    "#with tf.device('/gpu:0'):\n",
    "model = build_model(states, actions)"
   ]
  },
  {
   "cell_type": "code",
   "execution_count": null,
   "metadata": {},
   "outputs": [
    {
     "name": "stdout",
     "output_type": "stream",
     "text": [
      "Model: \"sequential_4\"\n",
      "_________________________________________________________________\n",
      "Layer (type)                 Output Shape              Param #   \n",
      "=================================================================\n",
      "dense_12 (Dense)             (None, 1, 24)             264       \n",
      "_________________________________________________________________\n",
      "dense_13 (Dense)             (None, 1, 24)             600       \n",
      "_________________________________________________________________\n",
      "dense_14 (Dense)             (None, 1, 10)             250       \n",
      "_________________________________________________________________\n",
      "flatten_4 (Flatten)          (None, 10)                0         \n",
      "=================================================================\n",
      "Total params: 1,114\n",
      "Trainable params: 1,114\n",
      "Non-trainable params: 0\n",
      "_________________________________________________________________\n"
     ]
    }
   ],
   "source": [
    "model.summary()"
   ]
  },
  {
   "cell_type": "code",
   "execution_count": null,
   "metadata": {},
   "outputs": [],
   "source": [
    "from rl.agents import DQNAgent\n",
    "from rl.policy import BoltzmannQPolicy\n",
    "from rl.memory import SequentialMemory\n"
   ]
  },
  {
   "cell_type": "code",
   "execution_count": null,
   "metadata": {},
   "outputs": [],
   "source": [
    "def build_agent(model, actions):\n",
    "    policy = BoltzmannQPolicy()\n",
    "    memory = SequentialMemory(limit=50000, window_length=1)\n",
    "    dqn = DQNAgent(model=model, memory=memory, policy=policy, \n",
    "                  nb_actions=actions, nb_steps_warmup=100, target_model_update=1e-2)\n",
    "    return dqn"
   ]
  },
  {
   "cell_type": "code",
   "execution_count": null,
   "metadata": {},
   "outputs": [
    {
     "name": "stdout",
     "output_type": "stream",
     "text": [
      "Training for 10000 steps ...\n",
      "Interval 1 (0 steps performed)\n",
      "10000/10000 [==============================] - 278s 28ms/step - reward: 0.7894\n",
      "done, took 278.142 seconds\n"
     ]
    }
   ],
   "source": [
    "\n",
    "dqn = build_agent(model, actions)\n",
    "dqn.compile(Adam(lr=1e-3), metrics=['mae'])\n",
    "history=dqn.fit(env, nb_steps=10000, visualize=False, verbose=1,log_interval=10000)"
   ]
  },
  {
   "cell_type": "code",
   "execution_count": null,
   "metadata": {},
   "outputs": [
    {
     "name": "stdout",
     "output_type": "stream",
     "text": [
      "Testing for 10 episodes ...\n",
      "Episode 1: reward: 100.000, steps: 100\n",
      "Episode 2: reward: 62.000, steps: 100\n",
      "Episode 3: reward: 98.000, steps: 100\n",
      "Episode 4: reward: 100.000, steps: 100\n",
      "Episode 5: reward: 96.000, steps: 100\n",
      "Episode 6: reward: 100.000, steps: 100\n",
      "Episode 7: reward: 100.000, steps: 100\n",
      "Episode 8: reward: 100.000, steps: 100\n",
      "Episode 9: reward: 100.000, steps: 100\n",
      "Episode 10: reward: 98.000, steps: 100\n",
      "95.4\n"
     ]
    }
   ],
   "source": [
    "scores = dqn.test(env, nb_episodes=10, visualize=False)\n",
    "print(np.mean(scores.history['episode_reward']))\n"
   ]
  },
  {
   "cell_type": "code",
   "execution_count": null,
   "metadata": {},
   "outputs": [],
   "source": [
    "import matplotlib.pyplot as plt"
   ]
  },
  {
   "cell_type": "code",
   "execution_count": null,
   "metadata": {},
   "outputs": [
    {
     "name": "stdout",
     "output_type": "stream",
     "text": [
      "48\n"
     ]
    }
   ],
   "source": [
    "print(dqn.backward.__sizeof__())"
   ]
  },
  {
   "cell_type": "code",
   "execution_count": null,
   "metadata": {},
   "outputs": [
    {
     "name": "stdout",
     "output_type": "stream",
     "text": [
      "dict_keys(['episode_reward', 'nb_episode_steps', 'nb_steps'])\n"
     ]
    }
   ],
   "source": [
    "print(history.history.keys())\n",
    "#history.history['nb_episode_steps']"
   ]
  },
  {
   "cell_type": "code",
   "execution_count": null,
   "metadata": {},
   "outputs": [
    {
     "data": {
      "image/png": "[encoded data removed]",
      "text/plain": [
       "<Figure size 432x288 with 1 Axes>"
      ]
     },
     "metadata": {
      "needs_background": "light"
     },
     "output_type": "display_data"
    }
   ],
   "source": [
    "plt.plot(history.history['episode_reward'])\n",
    "plt.plot(history.history['episode_reward'])\n",
    "plt.title('model accuracy')\n",
    "plt.ylabel('accuracy')\n",
    "plt.xlabel('epoch')\n",
    "plt.legend(['train', 'test'], loc='upper left')\n",
    "plt.show()"
   ]
  }
 ],
 "metadata": {
  "interpreter": {
   "hash": "307f265ea84935652ed5d09a40a2b9dec80fc1f1f71fbe935d538550163b0f90"
  },
  "kernelspec": {
   "display_name": "Python 3.8.11 64-bit ('version 23': conda)",
   "name": "python3"
  },
  "language_info": {
   "codemirror_mode": {
    "name": "ipython",
    "version": 3
   },
   "file_extension": ".py",
   "mimetype": "text/x-python",
   "name": "python",
   "nbconvert_exporter": "python",
   "pygments_lexer": "ipython3",
   "version": "3.8.11"
  },
  "orig_nbformat": 4
 },
 "nbformat": 4,
 "nbformat_minor": 2
}
