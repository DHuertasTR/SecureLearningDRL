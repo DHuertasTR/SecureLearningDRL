{
 "cells": [
  {
   "cell_type": "code",
   "execution_count": 29,
   "metadata": {},
   "outputs": [],
   "source": [
    "import torch\n",
    "import numpy as np\n",
    "import pandas as pd\n",
    "import random \n",
    "from Evaluator import ModelEvaluator\n",
    "from sklearn.model_selection import train_test_split "
   ]
  },
  {
   "cell_type": "markdown",
   "metadata": {},
   "source": [
    "## cargando los datos adversarios 2021"
   ]
  },
  {
   "cell_type": "code",
   "execution_count": 46,
   "metadata": {},
   "outputs": [
    {
     "name": "stdout",
     "output_type": "stream",
     "text": [
      "   -97.0  -47.0  -6.0  -27.0  73.0  13.0  -59.0  93.0  -36.0   5.0\n",
      "0   -1.0  -65.0 -26.0   51.0  -9.0  23.0   63.0 -54.0   19.0  15.0\n",
      "1   -1.0   63.0 -93.0   43.0 -12.0  76.0   -4.0 -53.0   62.0  50.0\n",
      "2   53.0  -25.0  42.0   87.0   1.0   1.0   18.0  -6.0   83.0  11.0\n"
     ]
    }
   ],
   "source": [
    "advData=pd.read_csv('datasets/Adversarial_data.csv')\n",
    "print(advData.head(3))\n"
   ]
  },
  {
   "cell_type": "code",
   "execution_count": 17,
   "metadata": {},
   "outputs": [],
   "source": [
    "advData.columns=['tcp_packets','dist_port_tcp','external_ips','vulume_bytes','udp_packets','source_app_packets','remote_app_packets','source_app_bytes','remote_app_bytes','dns_query_times']"
   ]
  },
  {
   "cell_type": "markdown",
   "metadata": {},
   "source": [
    "Agregando los headers, a partir del conocimiento de los datos originales, teniendo en cuenta que el entrenamiento no es un proceso que realiza el atacante."
   ]
  },
  {
   "cell_type": "code",
   "execution_count": 45,
   "metadata": {},
   "outputs": [
    {
     "data": {
      "text/html": [
       "<div>\n",
       "<style scoped>\n",
       "    .dataframe tbody tr th:only-of-type {\n",
       "        vertical-align: middle;\n",
       "    }\n",
       "\n",
       "    .dataframe tbody tr th {\n",
       "        vertical-align: top;\n",
       "    }\n",
       "\n",
       "    .dataframe thead th {\n",
       "        text-align: right;\n",
       "    }\n",
       "</style>\n",
       "<table border=\"1\" class=\"dataframe\">\n",
       "  <thead>\n",
       "    <tr style=\"text-align: right;\">\n",
       "      <th></th>\n",
       "      <th>-97.0</th>\n",
       "      <th>-47.0</th>\n",
       "      <th>-6.0</th>\n",
       "      <th>-27.0</th>\n",
       "      <th>73.0</th>\n",
       "      <th>13.0</th>\n",
       "      <th>-59.0</th>\n",
       "      <th>93.0</th>\n",
       "      <th>-36.0</th>\n",
       "      <th>5.0</th>\n",
       "    </tr>\n",
       "  </thead>\n",
       "  <tbody>\n",
       "    <tr>\n",
       "      <th>0</th>\n",
       "      <td>-1.0</td>\n",
       "      <td>-65.0</td>\n",
       "      <td>-26.0</td>\n",
       "      <td>51.0</td>\n",
       "      <td>-9.0</td>\n",
       "      <td>23.0</td>\n",
       "      <td>63.0</td>\n",
       "      <td>-54.0</td>\n",
       "      <td>19.0</td>\n",
       "      <td>15.0</td>\n",
       "    </tr>\n",
       "    <tr>\n",
       "      <th>1</th>\n",
       "      <td>-1.0</td>\n",
       "      <td>63.0</td>\n",
       "      <td>-93.0</td>\n",
       "      <td>43.0</td>\n",
       "      <td>-12.0</td>\n",
       "      <td>76.0</td>\n",
       "      <td>-4.0</td>\n",
       "      <td>-53.0</td>\n",
       "      <td>62.0</td>\n",
       "      <td>50.0</td>\n",
       "    </tr>\n",
       "    <tr>\n",
       "      <th>2</th>\n",
       "      <td>53.0</td>\n",
       "      <td>-25.0</td>\n",
       "      <td>42.0</td>\n",
       "      <td>87.0</td>\n",
       "      <td>1.0</td>\n",
       "      <td>1.0</td>\n",
       "      <td>18.0</td>\n",
       "      <td>-6.0</td>\n",
       "      <td>83.0</td>\n",
       "      <td>11.0</td>\n",
       "    </tr>\n",
       "  </tbody>\n",
       "</table>\n",
       "</div>"
      ],
      "text/plain": [
       "   -97.0  -47.0  -6.0  -27.0  73.0  13.0  -59.0  93.0  -36.0   5.0\n",
       "0   -1.0  -65.0 -26.0   51.0  -9.0  23.0   63.0 -54.0   19.0  15.0\n",
       "1   -1.0   63.0 -93.0   43.0 -12.0  76.0   -4.0 -53.0   62.0  50.0\n",
       "2   53.0  -25.0  42.0   87.0   1.0   1.0   18.0  -6.0   83.0  11.0"
      ]
     },
     "execution_count": 45,
     "metadata": {},
     "output_type": "execute_result"
    }
   ],
   "source": [
    "advData.head(3)"
   ]
  },
  {
   "cell_type": "code",
   "execution_count": 20,
   "metadata": {},
   "outputs": [],
   "source": [
    "advData['type']='malicious'"
   ]
  },
  {
   "cell_type": "code",
   "execution_count": 44,
   "metadata": {},
   "outputs": [
    {
     "data": {
      "text/html": [
       "<div>\n",
       "<style scoped>\n",
       "    .dataframe tbody tr th:only-of-type {\n",
       "        vertical-align: middle;\n",
       "    }\n",
       "\n",
       "    .dataframe tbody tr th {\n",
       "        vertical-align: top;\n",
       "    }\n",
       "\n",
       "    .dataframe thead th {\n",
       "        text-align: right;\n",
       "    }\n",
       "</style>\n",
       "<table border=\"1\" class=\"dataframe\">\n",
       "  <thead>\n",
       "    <tr style=\"text-align: right;\">\n",
       "      <th></th>\n",
       "      <th>-97.0</th>\n",
       "      <th>-47.0</th>\n",
       "      <th>-6.0</th>\n",
       "      <th>-27.0</th>\n",
       "      <th>73.0</th>\n",
       "      <th>13.0</th>\n",
       "      <th>-59.0</th>\n",
       "      <th>93.0</th>\n",
       "      <th>-36.0</th>\n",
       "      <th>5.0</th>\n",
       "    </tr>\n",
       "  </thead>\n",
       "  <tbody>\n",
       "    <tr>\n",
       "      <th>0</th>\n",
       "      <td>-1.0</td>\n",
       "      <td>-65.0</td>\n",
       "      <td>-26.0</td>\n",
       "      <td>51.0</td>\n",
       "      <td>-9.0</td>\n",
       "      <td>23.0</td>\n",
       "      <td>63.0</td>\n",
       "      <td>-54.0</td>\n",
       "      <td>19.0</td>\n",
       "      <td>15.0</td>\n",
       "    </tr>\n",
       "    <tr>\n",
       "      <th>1</th>\n",
       "      <td>-1.0</td>\n",
       "      <td>63.0</td>\n",
       "      <td>-93.0</td>\n",
       "      <td>43.0</td>\n",
       "      <td>-12.0</td>\n",
       "      <td>76.0</td>\n",
       "      <td>-4.0</td>\n",
       "      <td>-53.0</td>\n",
       "      <td>62.0</td>\n",
       "      <td>50.0</td>\n",
       "    </tr>\n",
       "    <tr>\n",
       "      <th>2</th>\n",
       "      <td>53.0</td>\n",
       "      <td>-25.0</td>\n",
       "      <td>42.0</td>\n",
       "      <td>87.0</td>\n",
       "      <td>1.0</td>\n",
       "      <td>1.0</td>\n",
       "      <td>18.0</td>\n",
       "      <td>-6.0</td>\n",
       "      <td>83.0</td>\n",
       "      <td>11.0</td>\n",
       "    </tr>\n",
       "  </tbody>\n",
       "</table>\n",
       "</div>"
      ],
      "text/plain": [
       "   -97.0  -47.0  -6.0  -27.0  73.0  13.0  -59.0  93.0  -36.0   5.0\n",
       "0   -1.0  -65.0 -26.0   51.0  -9.0  23.0   63.0 -54.0   19.0  15.0\n",
       "1   -1.0   63.0 -93.0   43.0 -12.0  76.0   -4.0 -53.0   62.0  50.0\n",
       "2   53.0  -25.0  42.0   87.0   1.0   1.0   18.0  -6.0   83.0  11.0"
      ]
     },
     "execution_count": 44,
     "metadata": {},
     "output_type": "execute_result"
    }
   ],
   "source": [
    "advData.head(3)"
   ]
  },
  {
   "cell_type": "markdown",
   "metadata": {},
   "source": [
    "## Cargando los datos adversarios 2018"
   ]
  },
  {
   "cell_type": "code",
   "execution_count": 43,
   "metadata": {},
   "outputs": [
    {
     "name": "stdout",
     "output_type": "stream",
     "text": [
      "   tcp_packets  dist_port_tcp  external_ips  vulume_bytes  udp_packets  \\\n",
      "0     5.927622            0.0     -0.666667     39.884274          0.0   \n",
      "1    22.138217            0.0     -0.666667     -0.312383          0.0   \n",
      "2   104.151100            0.0     -0.666667    107.834553          0.0   \n",
      "\n",
      "   source_app_packets  remote_app_packets   source_app_bytes  \\\n",
      "0          103.199390            0.700097         437.493903   \n",
      "1           31.467176           -0.258824         625.873298   \n",
      "2           35.351266           -0.270588         326.570370   \n",
      "\n",
      "   remote_app_bytes  dns_query_times       type  \n",
      "0          1.994524            -0.25  malicious  \n",
      "1         24.786021            -0.25  malicious  \n",
      "2         60.857192            -0.50  malicious  \n",
      "(500, 11)\n"
     ]
    }
   ],
   "source": [
    "dataAdversarial=pd.read_csv(\"datasets/Colcom2018AdversarialDataTrain.csv\",header=0,sep=';')\n",
    "print(dataAdversarial.head(3))\n",
    "print(dataAdversarial.shape)"
   ]
  },
  {
   "cell_type": "markdown",
   "metadata": {},
   "source": [
    "## Cargando los datos originales"
   ]
  },
  {
   "cell_type": "code",
   "execution_count": 42,
   "metadata": {},
   "outputs": [
    {
     "name": "stdout",
     "output_type": "stream",
     "text": [
      "   tcp_packets  dist_port_tcp  external_ips  vulume_bytes  udp_packets  \\\n",
      "0     0.127907            6.0      0.333333      0.036782          0.0   \n",
      "1     1.069767            0.0      2.333333      1.786894          0.0   \n",
      "2     1.988372            0.0      1.333333      1.843764          0.0   \n",
      "\n",
      "   source_app_packets  remote_app_packets   source_app_bytes  \\\n",
      "0            0.100000            0.105882           0.041652   \n",
      "1            1.088889            0.976471           0.897275   \n",
      "2            1.944444            2.235294           6.465984   \n",
      "\n",
      "   remote_app_bytes  dns_query_times    type  \n",
      "0          0.029865              0.0  benign  \n",
      "1          1.787684              2.0  benign  \n",
      "2          1.831939              1.5  benign  \n",
      "(7832, 11)\n"
     ]
    }
   ],
   "source": [
    "data=pd.read_csv(\"datasets/Colcom2018CleanedScaled.csv\",header=0,sep=';')\n",
    "print(data.head(3))\n",
    "print(data.shape)"
   ]
  },
  {
   "cell_type": "markdown",
   "metadata": {},
   "source": [
    "# Split for training and testing"
   ]
  },
  {
   "cell_type": "markdown",
   "metadata": {},
   "source": [
    "## Primero los datos originales"
   ]
  },
  {
   "cell_type": "code",
   "execution_count": 34,
   "metadata": {},
   "outputs": [],
   "source": [
    "golden_X_train, golden_X_test, golden_Y_train, golden_Y_test = train_test_split(data.iloc[:,0:10], data['type'], test_size=0.25, random_state=50)"
   ]
  },
  {
   "cell_type": "markdown",
   "metadata": {},
   "source": [
    "## Ahora los datos adversarios"
   ]
  },
  {
   "cell_type": "code",
   "execution_count": 37,
   "metadata": {},
   "outputs": [],
   "source": [
    "adv_X_train, adv_X_test, adv_Y_train, adv_Y_test = train_test_split(advData.iloc[:,0:10], advData['type'], test_size=0.25, random_state=50)"
   ]
  },
  {
   "cell_type": "markdown",
   "metadata": {},
   "source": [
    "## Mezclando los datos para obtener un modelo mas robusto(hace falta incluir los datos adversarios del pdg anterior con el fin de comparar los resultados!!!)"
   ]
  },
  {
   "cell_type": "markdown",
   "metadata": {},
   "source": [
    "## Load discriminator"
   ]
  },
  {
   "cell_type": "code",
   "execution_count": 10,
   "metadata": {},
   "outputs": [
    {
     "data": {
      "text/plain": [
       "array(['benign'], dtype=object)"
      ]
     },
     "execution_count": 10,
     "metadata": {},
     "output_type": "execute_result"
    }
   ],
   "source": [
    "eval=ModelEvaluator()\n",
    "eval.test(AdvData[:1])"
   ]
  },
  {
   "cell_type": "markdown",
   "metadata": {},
   "source": [
    "## Secure learning"
   ]
  },
  {
   "cell_type": "code",
   "execution_count": null,
   "metadata": {},
   "outputs": [],
   "source": []
  }
 ],
 "metadata": {
  "interpreter": {
   "hash": "9473da5ae0246818811f990c8d8d355fa459f78acfd938d62f5df4aaa2b459e5"
  },
  "kernelspec": {
   "display_name": "Python 3.8.11 64-bit ('latest tf 101021': conda)",
   "name": "python3"
  },
  "language_info": {
   "codemirror_mode": {
    "name": "ipython",
    "version": 3
   },
   "file_extension": ".py",
   "mimetype": "text/x-python",
   "name": "python",
   "nbconvert_exporter": "python",
   "pygments_lexer": "ipython3",
   "version": "3.8.11"
  },
  "orig_nbformat": 4
 },
 "nbformat": 4,
 "nbformat_minor": 2
}
