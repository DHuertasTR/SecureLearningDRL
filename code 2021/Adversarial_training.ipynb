{
 "cells": [
  {
   "cell_type": "markdown",
   "metadata": {},
   "source": [
    "## Primero generando los datos adversarios"
   ]
  },
  {
   "cell_type": "code",
   "execution_count": 1,
   "metadata": {},
   "outputs": [],
   "source": [
    "import torch"
   ]
  },
  {
   "cell_type": "code",
   "execution_count": null,
   "metadata": {},
   "outputs": [],
   "source": [
    "def loadModelPytorch(model_path):\n",
    "    \"\"\"\n",
    "    Loads a model from a .pth file.\n",
    "    \"\"\"\n",
    "    # Load the model\n",
    "    model = torch.load(model_path)\n",
    "    # Set the model to evaluation mode\n",
    "    model.eval()\n",
    "    return model"
   ]
  }
 ],
 "metadata": {
  "interpreter": {
   "hash": "9473da5ae0246818811f990c8d8d355fa459f78acfd938d62f5df4aaa2b459e5"
  },
  "kernelspec": {
   "display_name": "Python 3.8.11 64-bit ('latest tf 101021': conda)",
   "name": "python3"
  },
  "language_info": {
   "codemirror_mode": {
    "name": "ipython",
    "version": 3
   },
   "file_extension": ".py",
   "mimetype": "text/x-python",
   "name": "python",
   "nbconvert_exporter": "python",
   "pygments_lexer": "ipython3",
   "version": "3.8.11"
  },
  "orig_nbformat": 4
 },
 "nbformat": 4,
 "nbformat_minor": 2
}
