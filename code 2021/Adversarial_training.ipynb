{
 "cells": [
  {
   "cell_type": "code",
   "execution_count": 15,
   "metadata": {},
   "outputs": [],
   "source": [
    "import torch\n",
    "import numpy as np\n",
    "import pandas as pd\n",
    "import random \n",
    "from Evaluator import ModelEvaluator\n",
    "from sklearn.model_selection import train_test_split "
   ]
  },
  {
   "cell_type": "markdown",
   "metadata": {},
   "source": [
    "## cargando los datos adversarios 2021"
   ]
  },
  {
   "cell_type": "code",
   "execution_count": 16,
   "metadata": {},
   "outputs": [
    {
     "name": "stdout",
     "output_type": "stream",
     "text": [
      "   -97.0  -47.0  -6.0  -27.0  73.0  13.0  -59.0  93.0  -36.0   5.0\n",
      "0   -1.0  -65.0 -26.0   51.0  -9.0  23.0   63.0 -54.0   19.0  15.0\n",
      "1   -1.0   63.0 -93.0   43.0 -12.0  76.0   -4.0 -53.0   62.0  50.0\n",
      "2   53.0  -25.0  42.0   87.0   1.0   1.0   18.0  -6.0   83.0  11.0\n"
     ]
    }
   ],
   "source": [
    "advData=pd.read_csv('datasets/Adversarial_data.csv')\n",
    "print(advData.head(3))\n"
   ]
  },
  {
   "cell_type": "code",
   "execution_count": 17,
   "metadata": {},
   "outputs": [],
   "source": [
    "advData.columns=['tcp_packets','dist_port_tcp','external_ips','vulume_bytes','udp_packets','source_app_packets','remote_app_packets','source_app_bytes','remote_app_bytes','dns_query_times']"
   ]
  },
  {
   "cell_type": "markdown",
   "metadata": {},
   "source": [
    "Agregando los headers, a partir del conocimiento de los datos originales, teniendo en cuenta que el entrenamiento no es un proceso que realiza el atacante."
   ]
  },
  {
   "cell_type": "code",
   "execution_count": 18,
   "metadata": {},
   "outputs": [
    {
     "data": {
      "text/html": [
       "<div>\n",
       "<style scoped>\n",
       "    .dataframe tbody tr th:only-of-type {\n",
       "        vertical-align: middle;\n",
       "    }\n",
       "\n",
       "    .dataframe tbody tr th {\n",
       "        vertical-align: top;\n",
       "    }\n",
       "\n",
       "    .dataframe thead th {\n",
       "        text-align: right;\n",
       "    }\n",
       "</style>\n",
       "<table border=\"1\" class=\"dataframe\">\n",
       "  <thead>\n",
       "    <tr style=\"text-align: right;\">\n",
       "      <th></th>\n",
       "      <th>tcp_packets</th>\n",
       "      <th>dist_port_tcp</th>\n",
       "      <th>external_ips</th>\n",
       "      <th>vulume_bytes</th>\n",
       "      <th>udp_packets</th>\n",
       "      <th>source_app_packets</th>\n",
       "      <th>remote_app_packets</th>\n",
       "      <th>source_app_bytes</th>\n",
       "      <th>remote_app_bytes</th>\n",
       "      <th>dns_query_times</th>\n",
       "    </tr>\n",
       "  </thead>\n",
       "  <tbody>\n",
       "    <tr>\n",
       "      <th>0</th>\n",
       "      <td>-1.0</td>\n",
       "      <td>-65.0</td>\n",
       "      <td>-26.0</td>\n",
       "      <td>51.0</td>\n",
       "      <td>-9.0</td>\n",
       "      <td>23.0</td>\n",
       "      <td>63.0</td>\n",
       "      <td>-54.0</td>\n",
       "      <td>19.0</td>\n",
       "      <td>15.0</td>\n",
       "    </tr>\n",
       "    <tr>\n",
       "      <th>1</th>\n",
       "      <td>-1.0</td>\n",
       "      <td>63.0</td>\n",
       "      <td>-93.0</td>\n",
       "      <td>43.0</td>\n",
       "      <td>-12.0</td>\n",
       "      <td>76.0</td>\n",
       "      <td>-4.0</td>\n",
       "      <td>-53.0</td>\n",
       "      <td>62.0</td>\n",
       "      <td>50.0</td>\n",
       "    </tr>\n",
       "    <tr>\n",
       "      <th>2</th>\n",
       "      <td>53.0</td>\n",
       "      <td>-25.0</td>\n",
       "      <td>42.0</td>\n",
       "      <td>87.0</td>\n",
       "      <td>1.0</td>\n",
       "      <td>1.0</td>\n",
       "      <td>18.0</td>\n",
       "      <td>-6.0</td>\n",
       "      <td>83.0</td>\n",
       "      <td>11.0</td>\n",
       "    </tr>\n",
       "  </tbody>\n",
       "</table>\n",
       "</div>"
      ],
      "text/plain": [
       "   tcp_packets  dist_port_tcp  external_ips  vulume_bytes  udp_packets  \\\n",
       "0         -1.0          -65.0         -26.0          51.0         -9.0   \n",
       "1         -1.0           63.0         -93.0          43.0        -12.0   \n",
       "2         53.0          -25.0          42.0          87.0          1.0   \n",
       "\n",
       "   source_app_packets  remote_app_packets  source_app_bytes  remote_app_bytes  \\\n",
       "0                23.0                63.0             -54.0              19.0   \n",
       "1                76.0                -4.0             -53.0              62.0   \n",
       "2                 1.0                18.0              -6.0              83.0   \n",
       "\n",
       "   dns_query_times  \n",
       "0             15.0  \n",
       "1             50.0  \n",
       "2             11.0  "
      ]
     },
     "execution_count": 18,
     "metadata": {},
     "output_type": "execute_result"
    }
   ],
   "source": [
    "advData.head(3)"
   ]
  },
  {
   "cell_type": "code",
   "execution_count": 19,
   "metadata": {},
   "outputs": [],
   "source": [
    "advData['type']='malicious'"
   ]
  },
  {
   "cell_type": "code",
   "execution_count": 20,
   "metadata": {},
   "outputs": [
    {
     "data": {
      "text/html": [
       "<div>\n",
       "<style scoped>\n",
       "    .dataframe tbody tr th:only-of-type {\n",
       "        vertical-align: middle;\n",
       "    }\n",
       "\n",
       "    .dataframe tbody tr th {\n",
       "        vertical-align: top;\n",
       "    }\n",
       "\n",
       "    .dataframe thead th {\n",
       "        text-align: right;\n",
       "    }\n",
       "</style>\n",
       "<table border=\"1\" class=\"dataframe\">\n",
       "  <thead>\n",
       "    <tr style=\"text-align: right;\">\n",
       "      <th></th>\n",
       "      <th>tcp_packets</th>\n",
       "      <th>dist_port_tcp</th>\n",
       "      <th>external_ips</th>\n",
       "      <th>vulume_bytes</th>\n",
       "      <th>udp_packets</th>\n",
       "      <th>source_app_packets</th>\n",
       "      <th>remote_app_packets</th>\n",
       "      <th>source_app_bytes</th>\n",
       "      <th>remote_app_bytes</th>\n",
       "      <th>dns_query_times</th>\n",
       "      <th>type</th>\n",
       "    </tr>\n",
       "  </thead>\n",
       "  <tbody>\n",
       "    <tr>\n",
       "      <th>0</th>\n",
       "      <td>-1.0</td>\n",
       "      <td>-65.0</td>\n",
       "      <td>-26.0</td>\n",
       "      <td>51.0</td>\n",
       "      <td>-9.0</td>\n",
       "      <td>23.0</td>\n",
       "      <td>63.0</td>\n",
       "      <td>-54.0</td>\n",
       "      <td>19.0</td>\n",
       "      <td>15.0</td>\n",
       "      <td>malicious</td>\n",
       "    </tr>\n",
       "    <tr>\n",
       "      <th>1</th>\n",
       "      <td>-1.0</td>\n",
       "      <td>63.0</td>\n",
       "      <td>-93.0</td>\n",
       "      <td>43.0</td>\n",
       "      <td>-12.0</td>\n",
       "      <td>76.0</td>\n",
       "      <td>-4.0</td>\n",
       "      <td>-53.0</td>\n",
       "      <td>62.0</td>\n",
       "      <td>50.0</td>\n",
       "      <td>malicious</td>\n",
       "    </tr>\n",
       "    <tr>\n",
       "      <th>2</th>\n",
       "      <td>53.0</td>\n",
       "      <td>-25.0</td>\n",
       "      <td>42.0</td>\n",
       "      <td>87.0</td>\n",
       "      <td>1.0</td>\n",
       "      <td>1.0</td>\n",
       "      <td>18.0</td>\n",
       "      <td>-6.0</td>\n",
       "      <td>83.0</td>\n",
       "      <td>11.0</td>\n",
       "      <td>malicious</td>\n",
       "    </tr>\n",
       "  </tbody>\n",
       "</table>\n",
       "</div>"
      ],
      "text/plain": [
       "   tcp_packets  dist_port_tcp  external_ips  vulume_bytes  udp_packets  \\\n",
       "0         -1.0          -65.0         -26.0          51.0         -9.0   \n",
       "1         -1.0           63.0         -93.0          43.0        -12.0   \n",
       "2         53.0          -25.0          42.0          87.0          1.0   \n",
       "\n",
       "   source_app_packets  remote_app_packets  source_app_bytes  remote_app_bytes  \\\n",
       "0                23.0                63.0             -54.0              19.0   \n",
       "1                76.0                -4.0             -53.0              62.0   \n",
       "2                 1.0                18.0              -6.0              83.0   \n",
       "\n",
       "   dns_query_times       type  \n",
       "0             15.0  malicious  \n",
       "1             50.0  malicious  \n",
       "2             11.0  malicious  "
      ]
     },
     "execution_count": 20,
     "metadata": {},
     "output_type": "execute_result"
    }
   ],
   "source": [
    "advData.head(3)"
   ]
  },
  {
   "cell_type": "markdown",
   "metadata": {},
   "source": [
    "## Cargando los datos adversarios 2018"
   ]
  },
  {
   "cell_type": "code",
   "execution_count": 21,
   "metadata": {},
   "outputs": [
    {
     "name": "stdout",
     "output_type": "stream",
     "text": [
      "   tcp_packets  dist_port_tcp  external_ips  vulume_bytes  udp_packets  \\\n",
      "0     5.927622            0.0     -0.666667     39.884274          0.0   \n",
      "1    22.138217            0.0     -0.666667     -0.312383          0.0   \n",
      "2   104.151100            0.0     -0.666667    107.834553          0.0   \n",
      "\n",
      "   source_app_packets  remote_app_packets   source_app_bytes  \\\n",
      "0          103.199390            0.700097         437.493903   \n",
      "1           31.467176           -0.258824         625.873298   \n",
      "2           35.351266           -0.270588         326.570370   \n",
      "\n",
      "   remote_app_bytes  dns_query_times       type  \n",
      "0          1.994524            -0.25  malicious  \n",
      "1         24.786021            -0.25  malicious  \n",
      "2         60.857192            -0.50  malicious  \n",
      "(500, 11)\n"
     ]
    }
   ],
   "source": [
    "dataAdversarial2018=pd.read_csv(\"datasets/Colcom2018AdversarialDataTrain.csv\",header=0,sep=';')\n",
    "print(dataAdversarial2018.head(3))\n",
    "print(dataAdversarial2018.shape)"
   ]
  },
  {
   "cell_type": "markdown",
   "metadata": {},
   "source": [
    "## Cargando los datos originales"
   ]
  },
  {
   "cell_type": "code",
   "execution_count": 22,
   "metadata": {},
   "outputs": [
    {
     "name": "stdout",
     "output_type": "stream",
     "text": [
      "   tcp_packets  dist_port_tcp  external_ips  vulume_bytes  udp_packets  \\\n",
      "0     0.127907            6.0      0.333333      0.036782          0.0   \n",
      "1     1.069767            0.0      2.333333      1.786894          0.0   \n",
      "2     1.988372            0.0      1.333333      1.843764          0.0   \n",
      "\n",
      "   source_app_packets  remote_app_packets   source_app_bytes  \\\n",
      "0            0.100000            0.105882           0.041652   \n",
      "1            1.088889            0.976471           0.897275   \n",
      "2            1.944444            2.235294           6.465984   \n",
      "\n",
      "   remote_app_bytes  dns_query_times    type  \n",
      "0          0.029865              0.0  benign  \n",
      "1          1.787684              2.0  benign  \n",
      "2          1.831939              1.5  benign  \n",
      "(7832, 11)\n"
     ]
    }
   ],
   "source": [
    "data=pd.read_csv(\"datasets/Colcom2018CleanedScaled.csv\",header=0,sep=';')\n",
    "print(data.head(3))\n",
    "print(data.shape)"
   ]
  },
  {
   "cell_type": "markdown",
   "metadata": {},
   "source": [
    "# Split for training and testing"
   ]
  },
  {
   "cell_type": "markdown",
   "metadata": {},
   "source": [
    "## Primero los datos originales"
   ]
  },
  {
   "cell_type": "code",
   "execution_count": 23,
   "metadata": {},
   "outputs": [],
   "source": [
    "golden_X_train, golden_X_test, golden_Y_train, golden_Y_test = train_test_split(data.iloc[:,0:10], data['type'], test_size=0.25, random_state=50)"
   ]
  },
  {
   "cell_type": "markdown",
   "metadata": {},
   "source": [
    "## Segundo los datos del 2018"
   ]
  },
  {
   "cell_type": "code",
   "execution_count": 24,
   "metadata": {},
   "outputs": [],
   "source": [
    "oldAdv_X_train, oldAdv_X_test, oldAdv_Y_train, oldAdv_Y_test = train_test_split(dataAdversarial2018.iloc[:,0:10], dataAdversarial2018['type'], test_size=0.25, random_state=50)"
   ]
  },
  {
   "cell_type": "markdown",
   "metadata": {},
   "source": [
    "## Ahora los datos adversarios"
   ]
  },
  {
   "cell_type": "code",
   "execution_count": 25,
   "metadata": {},
   "outputs": [],
   "source": [
    "adv_X_train, adv_X_test, adv_Y_train, adv_Y_test = train_test_split(advData.iloc[:,0:10], advData['type'], test_size=0.25, random_state=50)"
   ]
  },
  {
   "cell_type": "markdown",
   "metadata": {},
   "source": [
    "## Mezclando los datos para obtener un modelo mas robusto"
   ]
  },
  {
   "cell_type": "code",
   "execution_count": 32,
   "metadata": {},
   "outputs": [
    {
     "data": {
      "text/html": [
       "<div>\n",
       "<style scoped>\n",
       "    .dataframe tbody tr th:only-of-type {\n",
       "        vertical-align: middle;\n",
       "    }\n",
       "\n",
       "    .dataframe tbody tr th {\n",
       "        vertical-align: top;\n",
       "    }\n",
       "\n",
       "    .dataframe thead th {\n",
       "        text-align: right;\n",
       "    }\n",
       "</style>\n",
       "<table border=\"1\" class=\"dataframe\">\n",
       "  <thead>\n",
       "    <tr style=\"text-align: right;\">\n",
       "      <th></th>\n",
       "      <th>tcp_packets</th>\n",
       "      <th>dist_port_tcp</th>\n",
       "      <th>external_ips</th>\n",
       "      <th>vulume_bytes</th>\n",
       "      <th>udp_packets</th>\n",
       "      <th>source_app_packets</th>\n",
       "      <th>remote_app_packets</th>\n",
       "      <th>source_app_bytes</th>\n",
       "      <th>remote_app_bytes</th>\n",
       "      <th>dns_query_times</th>\n",
       "    </tr>\n",
       "  </thead>\n",
       "  <tbody>\n",
       "    <tr>\n",
       "      <th>2883</th>\n",
       "      <td>0.267442</td>\n",
       "      <td>7.0</td>\n",
       "      <td>0.666667</td>\n",
       "      <td>0.260066</td>\n",
       "      <td>0.0</td>\n",
       "      <td>0.244444</td>\n",
       "      <td>0.247059</td>\n",
       "      <td>0.076528</td>\n",
       "      <td>0.254787</td>\n",
       "      <td>0.25</td>\n",
       "    </tr>\n",
       "    <tr>\n",
       "      <th>2926</th>\n",
       "      <td>1.593023</td>\n",
       "      <td>2.0</td>\n",
       "      <td>1.000000</td>\n",
       "      <td>0.988394</td>\n",
       "      <td>0.0</td>\n",
       "      <td>1.511111</td>\n",
       "      <td>1.670588</td>\n",
       "      <td>7.028402</td>\n",
       "      <td>0.963462</td>\n",
       "      <td>0.25</td>\n",
       "    </tr>\n",
       "    <tr>\n",
       "      <th>843</th>\n",
       "      <td>1.023256</td>\n",
       "      <td>109.0</td>\n",
       "      <td>0.000000</td>\n",
       "      <td>1.026158</td>\n",
       "      <td>0.0</td>\n",
       "      <td>0.933333</td>\n",
       "      <td>1.035294</td>\n",
       "      <td>0.101653</td>\n",
       "      <td>0.979634</td>\n",
       "      <td>-0.50</td>\n",
       "    </tr>\n",
       "  </tbody>\n",
       "</table>\n",
       "</div>"
      ],
      "text/plain": [
       "      tcp_packets  dist_port_tcp  external_ips  vulume_bytes  udp_packets  \\\n",
       "2883     0.267442            7.0      0.666667      0.260066          0.0   \n",
       "2926     1.593023            2.0      1.000000      0.988394          0.0   \n",
       "843      1.023256          109.0      0.000000      1.026158          0.0   \n",
       "\n",
       "      source_app_packets  remote_app_packets   source_app_bytes  \\\n",
       "2883            0.244444            0.247059           0.076528   \n",
       "2926            1.511111            1.670588           7.028402   \n",
       "843             0.933333            1.035294           0.101653   \n",
       "\n",
       "      remote_app_bytes  dns_query_times  \n",
       "2883          0.254787             0.25  \n",
       "2926          0.963462             0.25  \n",
       "843           0.979634            -0.50  "
      ]
     },
     "execution_count": 32,
     "metadata": {},
     "output_type": "execute_result"
    }
   ],
   "source": [
    "golden_X_train.iloc[0:3,0:10]"
   ]
  },
  {
   "cell_type": "code",
   "execution_count": 37,
   "metadata": {},
   "outputs": [
    {
     "data": {
      "text/html": [
       "<div>\n",
       "<style scoped>\n",
       "    .dataframe tbody tr th:only-of-type {\n",
       "        vertical-align: middle;\n",
       "    }\n",
       "\n",
       "    .dataframe tbody tr th {\n",
       "        vertical-align: top;\n",
       "    }\n",
       "\n",
       "    .dataframe thead th {\n",
       "        text-align: right;\n",
       "    }\n",
       "</style>\n",
       "<table border=\"1\" class=\"dataframe\">\n",
       "  <thead>\n",
       "    <tr style=\"text-align: right;\">\n",
       "      <th></th>\n",
       "      <th>tcp_packets</th>\n",
       "      <th>dist_port_tcp</th>\n",
       "      <th>external_ips</th>\n",
       "      <th>vulume_bytes</th>\n",
       "      <th>udp_packets</th>\n",
       "      <th>source_app_packets</th>\n",
       "      <th>remote_app_packets</th>\n",
       "      <th>source_app_bytes</th>\n",
       "      <th>remote_app_bytes</th>\n",
       "      <th>dns_query_times</th>\n",
       "    </tr>\n",
       "  </thead>\n",
       "  <tbody>\n",
       "    <tr>\n",
       "      <th>0</th>\n",
       "      <td>0.267442</td>\n",
       "      <td>7.0</td>\n",
       "      <td>0.666667</td>\n",
       "      <td>0.260066</td>\n",
       "      <td>0.0</td>\n",
       "      <td>0.244444</td>\n",
       "      <td>0.247059</td>\n",
       "      <td>0.076528</td>\n",
       "      <td>0.254787</td>\n",
       "      <td>0.25</td>\n",
       "    </tr>\n",
       "    <tr>\n",
       "      <th>1</th>\n",
       "      <td>1.593023</td>\n",
       "      <td>2.0</td>\n",
       "      <td>1.000000</td>\n",
       "      <td>0.988394</td>\n",
       "      <td>0.0</td>\n",
       "      <td>1.511111</td>\n",
       "      <td>1.670588</td>\n",
       "      <td>7.028402</td>\n",
       "      <td>0.963462</td>\n",
       "      <td>0.25</td>\n",
       "    </tr>\n",
       "    <tr>\n",
       "      <th>2</th>\n",
       "      <td>1.023256</td>\n",
       "      <td>109.0</td>\n",
       "      <td>0.000000</td>\n",
       "      <td>1.026158</td>\n",
       "      <td>0.0</td>\n",
       "      <td>0.933333</td>\n",
       "      <td>1.035294</td>\n",
       "      <td>0.101653</td>\n",
       "      <td>0.979634</td>\n",
       "      <td>-0.50</td>\n",
       "    </tr>\n",
       "  </tbody>\n",
       "</table>\n",
       "</div>"
      ],
      "text/plain": [
       "   tcp_packets  dist_port_tcp  external_ips  vulume_bytes  udp_packets  \\\n",
       "0     0.267442            7.0      0.666667      0.260066          0.0   \n",
       "1     1.593023            2.0      1.000000      0.988394          0.0   \n",
       "2     1.023256          109.0      0.000000      1.026158          0.0   \n",
       "\n",
       "   source_app_packets  remote_app_packets   source_app_bytes  \\\n",
       "0            0.244444            0.247059           0.076528   \n",
       "1            1.511111            1.670588           7.028402   \n",
       "2            0.933333            1.035294           0.101653   \n",
       "\n",
       "   remote_app_bytes  dns_query_times  \n",
       "0          0.254787             0.25  \n",
       "1          0.963462             0.25  \n",
       "2          0.979634            -0.50  "
      ]
     },
     "execution_count": 37,
     "metadata": {},
     "output_type": "execute_result"
    }
   ],
   "source": [
    "golden_X_train=golden_X_train.reset_index(drop=True)\n",
    "golden_Y_train=golden_Y_train.reset_index(drop=True)\n",
    "golden_X_train.iloc[0:3,:]"
   ]
  },
  {
   "cell_type": "markdown",
   "metadata": {},
   "source": [
    "## Agregando a los datos originales los datos del 2018"
   ]
  },
  {
   "cell_type": "code",
   "execution_count": null,
   "metadata": {},
   "outputs": [],
   "source": [
    "golden_X_train=golden_X_train.append(oldAdv_X_train, ignore_index = True)\n",
    "golden_Y_train=golden_Y_train.append(oldAdv_Y_train, ignore_index = True)"
   ]
  },
  {
   "cell_type": "markdown",
   "metadata": {},
   "source": [
    "## Agregando a los datos originales los datos adversarios del 2021"
   ]
  },
  {
   "cell_type": "code",
   "execution_count": null,
   "metadata": {},
   "outputs": [],
   "source": [
    "golden_X_train=golden_X_train.append(adv_X_train, ignore_index = True)\n",
    "golden_Y_train=golden_Y_train.append(adv_Y_train, ignore_index = True)"
   ]
  },
  {
   "cell_type": "markdown",
   "metadata": {},
   "source": [
    "## Load discriminator"
   ]
  },
  {
   "cell_type": "code",
   "execution_count": 27,
   "metadata": {},
   "outputs": [
    {
     "ename": "NameError",
     "evalue": "name 'AdvData' is not defined",
     "output_type": "error",
     "traceback": [
      "\u001b[1;31m---------------------------------------------------------------------------\u001b[0m",
      "\u001b[1;31mNameError\u001b[0m                                 Traceback (most recent call last)",
      "\u001b[1;32m~\\AppData\\Local\\Temp/ipykernel_16240/3956711338.py\u001b[0m in \u001b[0;36m<module>\u001b[1;34m\u001b[0m\n\u001b[0;32m      1\u001b[0m \u001b[0meval\u001b[0m\u001b[1;33m=\u001b[0m\u001b[0mModelEvaluator\u001b[0m\u001b[1;33m(\u001b[0m\u001b[1;33m)\u001b[0m\u001b[1;33m\u001b[0m\u001b[1;33m\u001b[0m\u001b[0m\n\u001b[1;32m----> 2\u001b[1;33m \u001b[0meval\u001b[0m\u001b[1;33m.\u001b[0m\u001b[0mtest\u001b[0m\u001b[1;33m(\u001b[0m\u001b[0mAdvData\u001b[0m\u001b[1;33m[\u001b[0m\u001b[1;33m:\u001b[0m\u001b[1;36m1\u001b[0m\u001b[1;33m]\u001b[0m\u001b[1;33m)\u001b[0m\u001b[1;33m\u001b[0m\u001b[1;33m\u001b[0m\u001b[0m\n\u001b[0m",
      "\u001b[1;31mNameError\u001b[0m: name 'AdvData' is not defined"
     ]
    }
   ],
   "source": [
    "eval=ModelEvaluator()\n",
    "eval.test(AdvData[:1])"
   ]
  },
  {
   "cell_type": "markdown",
   "metadata": {},
   "source": [
    "## Secure learning"
   ]
  },
  {
   "cell_type": "code",
   "execution_count": null,
   "metadata": {},
   "outputs": [],
   "source": []
  }
 ],
 "metadata": {
  "interpreter": {
   "hash": "9473da5ae0246818811f990c8d8d355fa459f78acfd938d62f5df4aaa2b459e5"
  },
  "kernelspec": {
   "display_name": "Python 3.8.11 64-bit ('latest tf 101021': conda)",
   "name": "python3"
  },
  "language_info": {
   "codemirror_mode": {
    "name": "ipython",
    "version": 3
   },
   "file_extension": ".py",
   "mimetype": "text/x-python",
   "name": "python",
   "nbconvert_exporter": "python",
   "pygments_lexer": "ipython3",
   "version": "3.8.11"
  },
  "orig_nbformat": 4
 },
 "nbformat": 4,
 "nbformat_minor": 2
}
